{
 "cells": [
  {
   "cell_type": "code",
   "execution_count": 3133,
   "id": "cb3f854c",
   "metadata": {
    "ExecuteTime": {
     "end_time": "2021-05-24T15:26:48.606952Z",
     "start_time": "2021-05-24T15:26:48.603711Z"
    }
   },
   "outputs": [],
   "source": [
    "import pandas as pd\n",
    "import matplotlib.pyplot as plt"
   ]
  },
  {
   "cell_type": "code",
   "execution_count": 3134,
   "id": "65e8e774",
   "metadata": {
    "ExecuteTime": {
     "end_time": "2021-05-24T15:26:48.813889Z",
     "start_time": "2021-05-24T15:26:48.810887Z"
    }
   },
   "outputs": [],
   "source": [
    "pd.set_option('display.max_columns', 500)"
   ]
  },
  {
   "cell_type": "markdown",
   "id": "4e232013",
   "metadata": {},
   "source": [
    "## Loading Data"
   ]
  },
  {
   "cell_type": "code",
   "execution_count": 3351,
   "id": "12fe98e7",
   "metadata": {
    "ExecuteTime": {
     "end_time": "2021-05-24T16:21:22.517804Z",
     "start_time": "2021-05-24T16:21:22.111792Z"
    }
   },
   "outputs": [],
   "source": [
    "circuits = pd.read_csv(\"../data/f1db_csv/circuits.csv\", na_values=\"\\\\N\") # done \n",
    "constructor_results = pd.read_csv(\"../data/f1db_csv/constructor_results.csv\", na_values=\"\\\\N\") # done\n",
    "constructor_standings = pd.read_csv(\"../data/f1db_csv/constructor_standings.csv\", na_values=\"\\\\N\") # done\n",
    "constructors = pd.read_csv(\"../data/f1db_csv/constructors.csv\", na_values=\"\\\\N\") # done\n",
    "driver_standings = pd.read_csv(\"../data/f1db_csv/driver_standings.csv\", na_values=\"\\\\N\") # done\n",
    "drivers = pd.read_csv(\"../data/f1db_csv/drivers.csv\", na_values=\"\\\\N\") # done \n",
    "lap_times = pd.read_csv(\"../data/f1db_csv/lap_times.csv\", na_values=\"\\\\N\") # NA\n",
    "pit_stops = pd.read_csv(\"../data/f1db_csv/pit_stops.csv\", na_values=\"\\\\N\") # NA\n",
    "qualifying = pd.read_csv(\"../data/f1db_csv/qualifying.csv\", na_values=\"\\\\N\")\n",
    "races = pd.read_csv(\"../data/f1db_csv/races.csv\", na_values=\"\\\\N\")\n",
    "results = pd.read_csv(\"../data/f1db_csv/results.csv\", na_values=\"\\\\N\") # done\n",
    "status = pd.read_csv(\"../data/f1db_csv/status.csv\", na_values=\"\\\\N\")"
   ]
  },
  {
   "cell_type": "code",
   "execution_count": 3352,
   "id": "9b73eb59",
   "metadata": {
    "ExecuteTime": {
     "end_time": "2021-05-24T16:21:22.557793Z",
     "start_time": "2021-05-24T16:21:22.552793Z"
    }
   },
   "outputs": [],
   "source": [
    "def finished(x):\n",
    "    if x in [1, 11, 12, 13, 14, 15, 16, 17, 18, 19, 45, 50, 128, 53, 55, 58, 88, 111, 112, 113, 114, \n",
    "             115, 116, 117, 118, 119, 120, 122, 123, 124, 125, 127, 133, 134]:\n",
    "        return 1\n",
    "    else:\n",
    "        return 0"
   ]
  },
  {
   "cell_type": "code",
   "execution_count": 3353,
   "id": "0c307db6",
   "metadata": {
    "ExecuteTime": {
     "end_time": "2021-05-24T16:21:23.353014Z",
     "start_time": "2021-05-24T16:21:23.336002Z"
    }
   },
   "outputs": [],
   "source": [
    "results['finished'] = results.statusId.apply(lambda x: finished(x))"
   ]
  },
  {
   "cell_type": "markdown",
   "id": "95a8e8d7",
   "metadata": {},
   "source": [
    "## Merging Data"
   ]
  },
  {
   "cell_type": "code",
   "execution_count": 3354,
   "id": "10fb917c",
   "metadata": {
    "ExecuteTime": {
     "end_time": "2021-05-24T16:21:32.376907Z",
     "start_time": "2021-05-24T16:21:32.367921Z"
    }
   },
   "outputs": [],
   "source": [
    "final_df = results[[\"raceId\", \"driverId\", \"constructorId\", \"grid\", \"positionOrder\", \"points\", \"laps\", \"rank\", \"finished\"]]"
   ]
  },
  {
   "cell_type": "code",
   "execution_count": 3355,
   "id": "ae592642",
   "metadata": {
    "ExecuteTime": {
     "end_time": "2021-05-24T16:21:32.994945Z",
     "start_time": "2021-05-24T16:21:32.990961Z"
    }
   },
   "outputs": [],
   "source": [
    "final_df = final_df.rename(columns={\"positionOrder\":\"end_pos\", \"points\":\"dr_pts_won\", \"rank\":\"fastest_lap_rank\", \"grid\":\"start_pos\", \"laps\":\"compl_laps\"})"
   ]
  },
  {
   "cell_type": "markdown",
   "id": "a546357a",
   "metadata": {},
   "source": [
    "### Race Information"
   ]
  },
  {
   "cell_type": "code",
   "execution_count": 3218,
   "id": "a57551ff",
   "metadata": {
    "ExecuteTime": {
     "end_time": "2021-05-24T15:43:18.405198Z",
     "start_time": "2021-05-24T15:43:18.402199Z"
    }
   },
   "outputs": [],
   "source": [
    "races.time = races.time.fillna(\"12:00:00\")"
   ]
  },
  {
   "cell_type": "code",
   "execution_count": 3219,
   "id": "95409355",
   "metadata": {
    "ExecuteTime": {
     "end_time": "2021-05-24T15:43:18.611278Z",
     "start_time": "2021-05-24T15:43:18.605771Z"
    }
   },
   "outputs": [],
   "source": [
    "races['date'] = races[\"date\"] + \" \" + races[\"time\"]"
   ]
  },
  {
   "cell_type": "code",
   "execution_count": 3220,
   "id": "1f142952",
   "metadata": {
    "ExecuteTime": {
     "end_time": "2021-05-24T15:43:18.911308Z",
     "start_time": "2021-05-24T15:43:18.907318Z"
    }
   },
   "outputs": [],
   "source": [
    "races = races.drop(columns=[\"time\", \"year\", \"url\"])"
   ]
  },
  {
   "cell_type": "code",
   "execution_count": 3221,
   "id": "b15f08a2",
   "metadata": {
    "ExecuteTime": {
     "end_time": "2021-05-24T15:43:19.334441Z",
     "start_time": "2021-05-24T15:43:19.331441Z"
    }
   },
   "outputs": [],
   "source": [
    "races = races.rename(columns={\"name\":\"gp_name\", \"date\":\"race_date\", \"round\":\"season_round\"})"
   ]
  },
  {
   "cell_type": "code",
   "execution_count": 3222,
   "id": "c02bfc61",
   "metadata": {
    "ExecuteTime": {
     "end_time": "2021-05-24T15:43:20.438678Z",
     "start_time": "2021-05-24T15:43:20.434919Z"
    }
   },
   "outputs": [],
   "source": [
    "races.gp_name = races.gp_name.apply(lambda x: x.replace(\" \", \"_\").lower())"
   ]
  },
  {
   "cell_type": "code",
   "execution_count": 3223,
   "id": "ac6ab388",
   "metadata": {
    "ExecuteTime": {
     "end_time": "2021-05-24T15:43:22.144050Z",
     "start_time": "2021-05-24T15:43:22.131050Z"
    }
   },
   "outputs": [],
   "source": [
    "final_df = final_df.merge(races, on=\"raceId\", how='left')"
   ]
  },
  {
   "cell_type": "markdown",
   "id": "4eeaa0ad",
   "metadata": {},
   "source": [
    "### Circuit Information"
   ]
  },
  {
   "cell_type": "code",
   "execution_count": 3224,
   "id": "e0e86b74",
   "metadata": {
    "ExecuteTime": {
     "end_time": "2021-05-24T15:43:22.638179Z",
     "start_time": "2021-05-24T15:43:22.633191Z"
    }
   },
   "outputs": [],
   "source": [
    "circuits = circuits.drop(columns=[\"circuitRef\", \"name\", \"url\"])"
   ]
  },
  {
   "cell_type": "code",
   "execution_count": 3225,
   "id": "d9ac52d7",
   "metadata": {
    "ExecuteTime": {
     "end_time": "2021-05-24T15:43:22.814789Z",
     "start_time": "2021-05-24T15:43:22.810798Z"
    }
   },
   "outputs": [],
   "source": [
    "circuits = circuits.rename(columns={\"location\":\"loc\"})"
   ]
  },
  {
   "cell_type": "code",
   "execution_count": 3226,
   "id": "dc6f57d9",
   "metadata": {
    "ExecuteTime": {
     "end_time": "2021-05-24T15:43:23.023728Z",
     "start_time": "2021-05-24T15:43:23.018741Z"
    }
   },
   "outputs": [],
   "source": [
    "for col in [\"loc\", \"country\"]:\n",
    "    circuits[col] = circuits[col].apply(lambda x: x.lower())"
   ]
  },
  {
   "cell_type": "code",
   "execution_count": 3227,
   "id": "da522e8b",
   "metadata": {
    "ExecuteTime": {
     "end_time": "2021-05-24T15:43:23.205980Z",
     "start_time": "2021-05-24T15:43:23.194980Z"
    }
   },
   "outputs": [],
   "source": [
    "final_df = final_df.merge(circuits, on=\"circuitId\", how='left')"
   ]
  },
  {
   "cell_type": "markdown",
   "id": "41cb3663",
   "metadata": {},
   "source": [
    "### Constructor Results"
   ]
  },
  {
   "cell_type": "code",
   "execution_count": 3228,
   "id": "ef4180cd",
   "metadata": {
    "ExecuteTime": {
     "end_time": "2021-05-24T15:43:23.606606Z",
     "start_time": "2021-05-24T15:43:23.601605Z"
    }
   },
   "outputs": [],
   "source": [
    "constructor_results.status = constructor_results.status.fillna(0)"
   ]
  },
  {
   "cell_type": "code",
   "execution_count": 3229,
   "id": "589df99d",
   "metadata": {
    "ExecuteTime": {
     "end_time": "2021-05-24T15:43:23.807803Z",
     "start_time": "2021-05-24T15:43:23.802801Z"
    }
   },
   "outputs": [],
   "source": [
    "constructor_results = constructor_results.drop(columns=[\"constructorResultsId\"])"
   ]
  },
  {
   "cell_type": "code",
   "execution_count": 3230,
   "id": "c263105a",
   "metadata": {
    "ExecuteTime": {
     "end_time": "2021-05-24T15:43:23.983926Z",
     "start_time": "2021-05-24T15:43:23.978929Z"
    }
   },
   "outputs": [],
   "source": [
    "constructor_results = constructor_results.rename(columns={\"points\":\"constr_pts_won\", \"status\":\"constr_disq\"})"
   ]
  },
  {
   "cell_type": "code",
   "execution_count": 3231,
   "id": "fae1da04",
   "metadata": {
    "ExecuteTime": {
     "end_time": "2021-05-24T15:43:24.202390Z",
     "start_time": "2021-05-24T15:43:24.187352Z"
    }
   },
   "outputs": [],
   "source": [
    "final_df = final_df.merge(constructor_results, on=[\"raceId\", \"constructorId\"], how='left')"
   ]
  },
  {
   "cell_type": "markdown",
   "id": "3bf1a21d",
   "metadata": {},
   "source": [
    "### Constructor Standings"
   ]
  },
  {
   "cell_type": "code",
   "execution_count": 3232,
   "id": "d81be6d3",
   "metadata": {
    "ExecuteTime": {
     "end_time": "2021-05-24T15:43:24.567525Z",
     "start_time": "2021-05-24T15:43:24.562537Z"
    }
   },
   "outputs": [],
   "source": [
    "constructor_standings = constructor_standings.drop(columns=[\"constructorStandingsId\", \"positionText\"])"
   ]
  },
  {
   "cell_type": "code",
   "execution_count": 3233,
   "id": "1cd4b2cf",
   "metadata": {
    "ExecuteTime": {
     "end_time": "2021-05-24T15:43:25.030775Z",
     "start_time": "2021-05-24T15:43:25.026777Z"
    }
   },
   "outputs": [],
   "source": [
    "constructor_standings = constructor_standings.rename(columns={\"points\":\"constr_pts_tot\", \"position\":\"constr_pos\", \"wins\":\"constr_wins\"})"
   ]
  },
  {
   "cell_type": "code",
   "execution_count": 3234,
   "id": "e0f1f57b",
   "metadata": {
    "ExecuteTime": {
     "end_time": "2021-05-24T15:43:25.624191Z",
     "start_time": "2021-05-24T15:43:25.610177Z"
    }
   },
   "outputs": [],
   "source": [
    "final_df = final_df.merge(constructor_standings, on=[\"raceId\", \"constructorId\"], how='left')"
   ]
  },
  {
   "cell_type": "markdown",
   "id": "d79821bf",
   "metadata": {},
   "source": [
    "### Constructor"
   ]
  },
  {
   "cell_type": "code",
   "execution_count": 3235,
   "id": "f06cfac2",
   "metadata": {
    "ExecuteTime": {
     "end_time": "2021-05-24T15:43:25.997300Z",
     "start_time": "2021-05-24T15:43:25.994299Z"
    }
   },
   "outputs": [],
   "source": [
    "constructors = constructors.drop(columns=[\"constructorRef\", \"url\"])"
   ]
  },
  {
   "cell_type": "code",
   "execution_count": 3236,
   "id": "2cb2d958",
   "metadata": {
    "ExecuteTime": {
     "end_time": "2021-05-24T15:43:26.302968Z",
     "start_time": "2021-05-24T15:43:26.298738Z"
    }
   },
   "outputs": [],
   "source": [
    "constructors[\"name\"] = constructors[\"name\"].apply(lambda x: x.split(\"-\")[0])"
   ]
  },
  {
   "cell_type": "code",
   "execution_count": 3237,
   "id": "e8876eb4",
   "metadata": {
    "ExecuteTime": {
     "end_time": "2021-05-24T15:43:26.546890Z",
     "start_time": "2021-05-24T15:43:26.543890Z"
    }
   },
   "outputs": [],
   "source": [
    "teams_to_replace = {\"BMW Sauber\":\"Alfa Romeo\", \"Sauber\":\"Alfa Romeo\", \"Minardi\": \"AlphaTauri\", \"Toro Rosso\":\"AlphaTauri\",\n",
    "\"Toleman\":\"Alpine F1 Team\", \"Benetton\":\"Alpine F1 Team\", \"Renault\":\"Alpine F1 Team\", \"Lotus\":\"Alpine F1 Team\",\n",
    "\"Jordan\":\"Aston Martin\", \"Spyker\":\"Aston Martin\", \"Force India\": \"Aston Martin\", \"Racing Point\":\"Aston Martin\",\n",
    " \"Tyrrell\": \"Mercedes\", \"BAR\": \"Mercedes\", \"Honda\": \"Mercedes\", \"Brawn\": \"Mercedes\",\n",
    " \"Stewart\": \"Red Bull\", \"Jaguar\": \"Red Bull\"\n",
    "}"
   ]
  },
  {
   "cell_type": "code",
   "execution_count": 3238,
   "id": "1a6f68f5",
   "metadata": {
    "ExecuteTime": {
     "end_time": "2021-05-24T15:43:26.766999Z",
     "start_time": "2021-05-24T15:43:26.762009Z"
    }
   },
   "outputs": [],
   "source": [
    "constructors.name = constructors.name.replace(teams_to_replace)"
   ]
  },
  {
   "cell_type": "code",
   "execution_count": 3239,
   "id": "470462a5",
   "metadata": {
    "ExecuteTime": {
     "end_time": "2021-05-24T15:43:27.233025Z",
     "start_time": "2021-05-24T15:43:27.229021Z"
    }
   },
   "outputs": [],
   "source": [
    "constructors = constructors.rename(columns={\"name\":\"constr_name\", \"nationality\":\"constr_nat\"})"
   ]
  },
  {
   "cell_type": "code",
   "execution_count": 3240,
   "id": "5a88ea3e",
   "metadata": {
    "ExecuteTime": {
     "end_time": "2021-05-24T15:43:28.336931Z",
     "start_time": "2021-05-24T15:43:28.330930Z"
    }
   },
   "outputs": [],
   "source": [
    "constructors.constr_name = constructors.constr_name.apply(lambda x: x.replace(\" \", \"_\").lower())\n",
    "constructors.constr_nat = constructors.constr_nat.apply(lambda x: x.replace(\" \", \"_\").lower())"
   ]
  },
  {
   "cell_type": "code",
   "execution_count": 3241,
   "id": "09f272dd",
   "metadata": {
    "ExecuteTime": {
     "end_time": "2021-05-24T15:43:29.176839Z",
     "start_time": "2021-05-24T15:43:29.162829Z"
    }
   },
   "outputs": [],
   "source": [
    "final_df = final_df.merge(constructors, on=\"constructorId\", how='left')"
   ]
  },
  {
   "cell_type": "markdown",
   "id": "0b9ca996",
   "metadata": {},
   "source": [
    "### Driver Standings"
   ]
  },
  {
   "cell_type": "code",
   "execution_count": 3242,
   "id": "39c76957",
   "metadata": {
    "ExecuteTime": {
     "end_time": "2021-05-24T15:43:30.351528Z",
     "start_time": "2021-05-24T15:43:30.345538Z"
    }
   },
   "outputs": [],
   "source": [
    "driver_standings = driver_standings.drop(columns=[\"positionText\", \"driverStandingsId\"])"
   ]
  },
  {
   "cell_type": "code",
   "execution_count": 3243,
   "id": "c685349f",
   "metadata": {
    "ExecuteTime": {
     "end_time": "2021-05-24T15:43:31.014860Z",
     "start_time": "2021-05-24T15:43:31.010860Z"
    }
   },
   "outputs": [],
   "source": [
    "driver_standings = driver_standings.rename(columns={\"points\":\"dr_pts_tot\", \"position\":\"dr_pos\", \"wins\":\"dr_wins\"})"
   ]
  },
  {
   "cell_type": "code",
   "execution_count": 3244,
   "id": "10b80149",
   "metadata": {
    "ExecuteTime": {
     "end_time": "2021-05-24T15:43:31.958004Z",
     "start_time": "2021-05-24T15:43:31.939534Z"
    }
   },
   "outputs": [],
   "source": [
    "final_df = final_df.merge(driver_standings, on=[\"raceId\", \"driverId\"], how='left')"
   ]
  },
  {
   "cell_type": "markdown",
   "id": "1a18b486",
   "metadata": {},
   "source": [
    "### Driver"
   ]
  },
  {
   "cell_type": "code",
   "execution_count": 3245,
   "id": "aace2877",
   "metadata": {
    "ExecuteTime": {
     "end_time": "2021-05-24T15:43:32.927265Z",
     "start_time": "2021-05-24T15:43:32.922264Z"
    }
   },
   "outputs": [],
   "source": [
    "drivers[\"dr\"] = drivers[\"forename\"] + \" \" + drivers[\"surname\"]"
   ]
  },
  {
   "cell_type": "code",
   "execution_count": 3246,
   "id": "91d7c95e",
   "metadata": {
    "ExecuteTime": {
     "end_time": "2021-05-24T15:43:33.272380Z",
     "start_time": "2021-05-24T15:43:33.267380Z"
    }
   },
   "outputs": [],
   "source": [
    "drivers.nationality = drivers.nationality.str.lower()"
   ]
  },
  {
   "cell_type": "code",
   "execution_count": 3247,
   "id": "a7a0d7c4",
   "metadata": {
    "ExecuteTime": {
     "end_time": "2021-05-24T15:43:35.311482Z",
     "start_time": "2021-05-24T15:43:35.307482Z"
    }
   },
   "outputs": [],
   "source": [
    "drivers.dr = drivers.dr.apply(lambda x: x.replace(\" \", \"_\").lower())"
   ]
  },
  {
   "cell_type": "code",
   "execution_count": 3248,
   "id": "5491d0a7",
   "metadata": {
    "ExecuteTime": {
     "end_time": "2021-05-24T15:43:35.751215Z",
     "start_time": "2021-05-24T15:43:35.747202Z"
    }
   },
   "outputs": [],
   "source": [
    "drivers = drivers.drop(columns=[\"driverRef\", \"number\", \"code\", \"forename\", \"surname\", \"url\"])"
   ]
  },
  {
   "cell_type": "code",
   "execution_count": 3249,
   "id": "b7dda4bd",
   "metadata": {
    "ExecuteTime": {
     "end_time": "2021-05-24T15:43:36.150918Z",
     "start_time": "2021-05-24T15:43:36.147906Z"
    }
   },
   "outputs": [],
   "source": [
    "drivers = drivers.rename(columns={\"nationality\":\"dr_nat\"})"
   ]
  },
  {
   "cell_type": "code",
   "execution_count": 3250,
   "id": "28c2445c",
   "metadata": {
    "ExecuteTime": {
     "end_time": "2021-05-24T15:43:36.627630Z",
     "start_time": "2021-05-24T15:43:36.614630Z"
    }
   },
   "outputs": [],
   "source": [
    "final_df = final_df.merge(drivers, on=\"driverId\", how='left')"
   ]
  },
  {
   "cell_type": "markdown",
   "id": "90a47d68",
   "metadata": {},
   "source": [
    "### Qualifying"
   ]
  },
  {
   "cell_type": "code",
   "execution_count": 3251,
   "id": "328499e1",
   "metadata": {
    "ExecuteTime": {
     "end_time": "2021-05-24T15:43:38.541864Z",
     "start_time": "2021-05-24T15:43:37.482160Z"
    }
   },
   "outputs": [],
   "source": [
    "filling_qual_times = qualifying[[\"q1\", \"q2\", \"q3\"]].T.fillna(method=\"ffill\").T"
   ]
  },
  {
   "cell_type": "code",
   "execution_count": 3252,
   "id": "3907f97a",
   "metadata": {
    "ExecuteTime": {
     "end_time": "2021-05-24T15:43:38.573864Z",
     "start_time": "2021-05-24T15:43:38.570854Z"
    }
   },
   "outputs": [],
   "source": [
    "qualifying[[\"q1\", \"q2\", \"q3\"]] = filling_qual_times"
   ]
  },
  {
   "cell_type": "code",
   "execution_count": 3253,
   "id": "dd4decd3",
   "metadata": {
    "ExecuteTime": {
     "end_time": "2021-05-24T15:43:40.407408Z",
     "start_time": "2021-05-24T15:43:40.403411Z"
    }
   },
   "outputs": [],
   "source": [
    "qualifying = qualifying.drop(columns=[\"constructorId\", \"number\", \"qualifyId\"])"
   ]
  },
  {
   "cell_type": "code",
   "execution_count": 3254,
   "id": "48dfe1bf",
   "metadata": {
    "ExecuteTime": {
     "end_time": "2021-05-24T15:43:40.887837Z",
     "start_time": "2021-05-24T15:43:40.882850Z"
    }
   },
   "outputs": [],
   "source": [
    "qualifying = qualifying.rename(columns={\"position\":\"qual_pos\"})"
   ]
  },
  {
   "cell_type": "code",
   "execution_count": 3255,
   "id": "419ab474",
   "metadata": {
    "ExecuteTime": {
     "end_time": "2021-05-24T15:43:42.053701Z",
     "start_time": "2021-05-24T15:43:42.034703Z"
    }
   },
   "outputs": [],
   "source": [
    "final_df = final_df.merge(qualifying, on=[\"raceId\", \"driverId\"], how='left')"
   ]
  },
  {
   "cell_type": "code",
   "execution_count": 3256,
   "id": "a9258906",
   "metadata": {
    "ExecuteTime": {
     "end_time": "2021-05-24T15:43:45.438735Z",
     "start_time": "2021-05-24T15:43:45.418736Z"
    }
   },
   "outputs": [],
   "source": [
    "final_df = final_df.drop(columns=[\"constructorId\", \"circuitId\"])"
   ]
  },
  {
   "cell_type": "code",
   "execution_count": 3257,
   "id": "297701fa",
   "metadata": {
    "ExecuteTime": {
     "end_time": "2021-05-24T15:43:46.230978Z",
     "start_time": "2021-05-24T15:43:45.901911Z"
    }
   },
   "outputs": [],
   "source": [
    "final_df.to_csv(\"../data/raw_processed_data.csv\", index=False)"
   ]
  },
  {
   "cell_type": "markdown",
   "id": "cec1e65e",
   "metadata": {},
   "source": [
    "## Feature Engineering"
   ]
  },
  {
   "cell_type": "code",
   "execution_count": 3325,
   "id": "514f9103",
   "metadata": {
    "ExecuteTime": {
     "end_time": "2021-05-24T16:10:41.128509Z",
     "start_time": "2021-05-24T16:10:41.122522Z"
    }
   },
   "outputs": [],
   "source": [
    "ml_df = final_df.copy()"
   ]
  },
  {
   "cell_type": "code",
   "execution_count": 3326,
   "id": "dc869b7e",
   "metadata": {
    "ExecuteTime": {
     "end_time": "2021-05-24T16:10:41.340308Z",
     "start_time": "2021-05-24T16:10:41.321268Z"
    }
   },
   "outputs": [],
   "source": [
    "ml_df.dob = pd.to_datetime(ml_df.dob)\n",
    "ml_df.race_date = pd.to_datetime(ml_df.race_date)"
   ]
  },
  {
   "cell_type": "code",
   "execution_count": 3327,
   "id": "6b765c26",
   "metadata": {
    "ExecuteTime": {
     "end_time": "2021-05-24T16:10:41.675374Z",
     "start_time": "2021-05-24T16:10:41.669368Z"
    }
   },
   "outputs": [],
   "source": [
    "country_conversion = {\"american\":\"usa\", \"american-italian\":\"usa\", \"argentine\":\"argentina\", \"argentine-italian\":\"argentina\", \n",
    "                      \"australian\":\"australia\", \"austrian\":\"austria\", \"belgian\":\"belgium\", \"brazilian\":\"brazil\", \n",
    "                      \"british\":\"uk\", \"canadian\":\"canada\", \"chilean\":\"chile\", \"colombian\":\"colombia\", \"czech\":\"czech\", \n",
    "                      \"danish\":\"denmark\", \"dutch\":\"netherlands\", \"east german\":\"germany\", \"finnish\":\"finland\", \n",
    "                      \"french\":\"france\", \"german\":\"germany\", \"hungarian\":\"hungary\", \"indian\":\"india\", \n",
    "                      \"indonesian\":\"indonesia\", \"irish\":\"ireland\", \"italian\":\"italy\", \"japanese\":\"japan\", \n",
    "                      \"liechtensteiner\":\"liechtenstein\", \"malaysian\":\"malaysia\", \"mexican\":\"mexico\", \n",
    "                      \"monegasque\":\"monaco\", \"new zealander\":\"new zealand\", \"polish\":\"poland\", \"portuguese\":\"portugal\", \n",
    "                      \"rhodesian\":\"rhodesia\", \"russian\":\"russia\", \"south african\":\"south africa\", \"spanish\":\"spain\", \n",
    "                      \"swedish\":\"sweden\", \"swiss\":\"switzerland\", \"thai\":\"thailand\", \"uruguayan\":\"uruguay\", \n",
    "                      \"venezuelan\":\"venezuela\"}"
   ]
  },
  {
   "cell_type": "code",
   "execution_count": 3328,
   "id": "a66e6e5c",
   "metadata": {
    "ExecuteTime": {
     "end_time": "2021-05-24T16:10:42.493262Z",
     "start_time": "2021-05-24T16:10:42.489261Z"
    }
   },
   "outputs": [],
   "source": [
    "def check_home_gp(country, driver_nationality):    \n",
    "    if driver_nationality in country_conversion:\n",
    "        driver_country = country_conversion[driver_nationality]\n",
    "        if driver_country == country:\n",
    "            return 1\n",
    "        else:\n",
    "            return 0\n",
    "    else:\n",
    "        return 0"
   ]
  },
  {
   "cell_type": "code",
   "execution_count": 3329,
   "id": "64ab6d0c",
   "metadata": {
    "ExecuteTime": {
     "end_time": "2021-05-24T16:10:43.361262Z",
     "start_time": "2021-05-24T16:10:42.793055Z"
    }
   },
   "outputs": [],
   "source": [
    "ml_df[\"dr_home_gp\"] = ml_df.apply(lambda x: check_home_gp(x.country, x.dr_nat), axis=1)"
   ]
  },
  {
   "cell_type": "code",
   "execution_count": 3330,
   "id": "2a5040e4",
   "metadata": {
    "ExecuteTime": {
     "end_time": "2021-05-24T16:10:46.575291Z",
     "start_time": "2021-05-24T16:10:45.977518Z"
    }
   },
   "outputs": [],
   "source": [
    "ml_df[\"constr_home_gp\"] = ml_df.apply(lambda x: check_home_gp(x.country, x.constr_nat), axis=1)"
   ]
  },
  {
   "cell_type": "code",
   "execution_count": 3331,
   "id": "18c604c4",
   "metadata": {
    "ExecuteTime": {
     "end_time": "2021-05-24T16:10:46.582277Z",
     "start_time": "2021-05-24T16:10:46.576281Z"
    }
   },
   "outputs": [],
   "source": [
    "ml_df[\"dr_age\"] = 2021 - ml_df.dob.dt.year"
   ]
  },
  {
   "cell_type": "code",
   "execution_count": 3332,
   "id": "d0d4fe65",
   "metadata": {
    "ExecuteTime": {
     "end_time": "2021-05-24T16:10:46.593310Z",
     "start_time": "2021-05-24T16:10:46.584289Z"
    }
   },
   "outputs": [],
   "source": [
    "ml_df['year'] = ml_df.race_date.dt.year\n",
    "ml_df['month'] = ml_df.race_date.dt.month\n",
    "ml_df['day'] = ml_df.race_date.dt.day"
   ]
  },
  {
   "cell_type": "code",
   "execution_count": 3333,
   "id": "7fbc0482",
   "metadata": {
    "ExecuteTime": {
     "end_time": "2021-05-24T16:10:46.598321Z",
     "start_time": "2021-05-24T16:10:46.594320Z"
    }
   },
   "outputs": [],
   "source": [
    "ml_df['dr_prev_pts'] = ml_df[\"dr_pts_tot\"] - ml_df[\"dr_pts_won\"]"
   ]
  },
  {
   "cell_type": "code",
   "execution_count": 3334,
   "id": "0d499b3e",
   "metadata": {
    "ExecuteTime": {
     "end_time": "2021-05-24T16:10:46.766320Z",
     "start_time": "2021-05-24T16:10:46.761320Z"
    }
   },
   "outputs": [],
   "source": [
    "ml_df['constr_prev_pts'] = ml_df[\"constr_pts_tot\"] - ml_df[\"constr_pts_won\"]"
   ]
  },
  {
   "cell_type": "code",
   "execution_count": 3335,
   "id": "5c341d48",
   "metadata": {
    "ExecuteTime": {
     "end_time": "2021-05-24T16:10:46.975320Z",
     "start_time": "2021-05-24T16:10:46.972321Z"
    }
   },
   "outputs": [],
   "source": [
    "def calculating_prev_wins(wins, position):\n",
    "    if position == 1:\n",
    "        return wins - 1\n",
    "    else:\n",
    "        return wins"
   ]
  },
  {
   "cell_type": "code",
   "execution_count": 3336,
   "id": "e4e675a6",
   "metadata": {
    "ExecuteTime": {
     "end_time": "2021-05-24T16:10:48.285768Z",
     "start_time": "2021-05-24T16:10:47.171517Z"
    }
   },
   "outputs": [],
   "source": [
    "ml_df[\"dr_prev_wins\"] = ml_df.apply(lambda x: calculating_prev_wins(x.dr_wins, x.end_pos), axis=1)"
   ]
  },
  {
   "cell_type": "code",
   "execution_count": 3337,
   "id": "400586ac",
   "metadata": {
    "ExecuteTime": {
     "end_time": "2021-05-24T16:10:48.884137Z",
     "start_time": "2021-05-24T16:10:48.286769Z"
    }
   },
   "outputs": [],
   "source": [
    "ml_df[\"constr_prev_wins\"] = ml_df.apply(lambda x: calculating_prev_wins(x.constr_wins, x.constr_pos), axis=1)"
   ]
  },
  {
   "cell_type": "code",
   "execution_count": 3338,
   "id": "e685b78b",
   "metadata": {
    "ExecuteTime": {
     "end_time": "2021-05-24T16:10:48.890137Z",
     "start_time": "2021-05-24T16:10:48.885137Z"
    }
   },
   "outputs": [],
   "source": [
    "ml_df['dr_compl_laps_prev'] = 0\n",
    "ml_df['constr_pos_prev'] = 0\n",
    "ml_df['dr_pos_prev'] = 0"
   ]
  },
  {
   "cell_type": "code",
   "execution_count": 3339,
   "id": "f57db0c3",
   "metadata": {
    "ExecuteTime": {
     "end_time": "2021-05-24T16:10:48.895137Z",
     "start_time": "2021-05-24T16:10:48.891136Z"
    }
   },
   "outputs": [],
   "source": [
    "pd.options.mode.chained_assignment = None  # default='warn"
   ]
  },
  {
   "cell_type": "code",
   "execution_count": 3340,
   "id": "03a6e536",
   "metadata": {
    "ExecuteTime": {
     "end_time": "2021-05-24T16:10:48.901125Z",
     "start_time": "2021-05-24T16:10:48.896128Z"
    }
   },
   "outputs": [],
   "source": [
    "def get_rolling_statistics(df, col):\n",
    "    copy_df = df.copy()\n",
    "    num_rows = len(copy_df)\n",
    "    stats = copy_df[col].expanding().sum().values[:num_rows-1]\n",
    "    stats = np.insert(stats, 0, 0)\n",
    "    copy_df[col] = stats\n",
    "    return copy_df"
   ]
  },
  {
   "cell_type": "code",
   "execution_count": 3341,
   "id": "5b36997f",
   "metadata": {
    "ExecuteTime": {
     "end_time": "2021-05-24T16:10:48.906136Z",
     "start_time": "2021-05-24T16:10:48.902138Z"
    }
   },
   "outputs": [],
   "source": [
    "def get_shifted_statistics(df, col):\n",
    "    copy_df = df.copy()\n",
    "    num_rows = len(copy_df)\n",
    "    stats = np.insert(copy_df[col].values, 0, 0)\n",
    "    stats = stats[:num_rows]\n",
    "    copy_df[col] = stats\n",
    "    return copy_df"
   ]
  },
  {
   "cell_type": "code",
   "execution_count": 3342,
   "id": "14920cee",
   "metadata": {
    "ExecuteTime": {
     "end_time": "2021-05-24T16:11:35.070677Z",
     "start_time": "2021-05-24T16:11:25.890108Z"
    },
    "scrolled": true
   },
   "outputs": [],
   "source": [
    "for year in ml_df.year.unique():\n",
    "    season_df = ml_df[ml_df.year == year]\n",
    "    for driver in season_df.driverId.unique():\n",
    "        season_driver_df = season_df[season_df.driverId == driver].sort_values('race_date')\n",
    "        orig_index = season_driver_df.index\n",
    "        for col in [\"compl_laps\"]:\n",
    "            new_col_name = \"dr_compl_laps_prev\" # col + \"_prev\" \n",
    "            new_data_df = get_rolling_statistics(season_driver_df, col)\n",
    "            ml_df[new_col_name].iloc[orig_index] = new_data_df[col]     \n",
    "        for col in [\"constr_pos\", \"dr_pos\"]:\n",
    "            new_col_name = col + \"_prev\"\n",
    "            new_data_df = get_shifted_statistics(season_driver_df, col)\n",
    "            ml_df[new_col_name].iloc[orig_index] = new_data_df[col]   "
   ]
  },
  {
   "cell_type": "code",
   "execution_count": 3357,
   "id": "fc3d8aec",
   "metadata": {
    "ExecuteTime": {
     "end_time": "2021-05-24T16:23:22.424013Z",
     "start_time": "2021-05-24T16:23:22.414012Z"
    }
   },
   "outputs": [],
   "source": [
    "ml_df_final = ml_df[[\n",
    "    \"race_date\", \"year\", \n",
    "    \"month\", \"day\", \"season_round\",\n",
    "    \"start_pos\", \n",
    "    \"dr\", \"dr_age\", \"dr_nat\", \"dr_home_gp\", \"dr_prev_pts\", \"dr_prev_wins\", 'dr_compl_laps_prev', 'dr_pos_prev',\n",
    "    \"qual_pos\", \"q1\", \"q2\", \"q3\", \n",
    "    \"constr_name\", \"constr_nat\", \"constr_home_gp\", \"constr_prev_pts\", \"constr_prev_wins\", 'constr_pos_prev',\n",
    "    \"gp_name\", \"alt\",\n",
    "    \"end_pos\", \"finished\", \"fastest_lap_rank\"\n",
    "]]"
   ]
  },
  {
   "cell_type": "markdown",
   "id": "e3bcd1e3",
   "metadata": {},
   "source": [
    "# Think about filling missing values"
   ]
  },
  {
   "cell_type": "code",
   "execution_count": null,
   "id": "ecaeed47",
   "metadata": {},
   "outputs": [],
   "source": [
    "final_df.fastest_lap_rank = final_df.fastest_lap_rank.fillna(25)"
   ]
  },
  {
   "cell_type": "code",
   "execution_count": 3119,
   "id": "a2ef2fa0",
   "metadata": {
    "ExecuteTime": {
     "end_time": "2021-05-24T05:44:00.400122Z",
     "start_time": "2021-05-24T05:44:00.396110Z"
    }
   },
   "outputs": [],
   "source": [
    "ml_df_final.qual_pos = ml_df_final.qual_pos.fillna(ml_df_final.qual_pos.max())"
   ]
  },
  {
   "cell_type": "code",
   "execution_count": 3120,
   "id": "3048160d",
   "metadata": {
    "ExecuteTime": {
     "end_time": "2021-05-24T05:44:24.998737Z",
     "start_time": "2021-05-24T05:44:24.987749Z"
    }
   },
   "outputs": [],
   "source": [
    "ml_df_final[[\"q1\", \"q2\", \"q3\"]] = ml_df_final[[\"q1\", \"q2\", \"q3\"]].fillna(\"3:00:000\")"
   ]
  },
  {
   "cell_type": "code",
   "execution_count": 3128,
   "id": "1ec73eba",
   "metadata": {
    "ExecuteTime": {
     "end_time": "2021-05-24T05:51:40.775085Z",
     "start_time": "2021-05-24T05:51:40.769065Z"
    }
   },
   "outputs": [],
   "source": [
    "ml_df_final.dr_prev_pts = ml_df_final.dr_prev_pts.fillna(0)\n",
    "ml_df_final.dr_prev_wins = ml_df_final.dr_prev_wins.fillna(0)"
   ]
  },
  {
   "cell_type": "markdown",
   "id": "4366a937",
   "metadata": {},
   "source": [
    "# -------------------------------\n",
    "\n",
    "## Current Drivers"
   ]
  },
  {
   "cell_type": "code",
   "execution_count": null,
   "id": "795aa977",
   "metadata": {},
   "outputs": [],
   "source": [
    "from sklearn.model_selection import train_test_split\n",
    "from sklearn import preprocessing\n",
    "from sklearn.metrics import accuracy_score"
   ]
  },
  {
   "cell_type": "code",
   "execution_count": 3555,
   "id": "4468c5f5",
   "metadata": {
    "ExecuteTime": {
     "end_time": "2021-05-24T20:32:18.064942Z",
     "start_time": "2021-05-24T20:32:18.060941Z"
    }
   },
   "outputs": [],
   "source": [
    "current_drivers = ['lewis_hamilton', 'max_verstappen', 'valtteri_bottas',\n",
    "       'charles_leclerc', 'sergio_pérez', 'daniel_ricciardo',\n",
    "       'carlos_sainz', 'lando_norris', 'esteban_ocon', 'pierre_gasly',\n",
    "       'lance_stroll', 'kimi_räikkönen', 'sebastian_vettel',\n",
    "       'george_russell', 'antonio_giovinazzi', 'nicholas_latifi',\n",
    "       'fernando_alonso', 'mick_schumacher', 'nikita_mazepin',\n",
    "       'yuki_tsunoda']"
   ]
  },
  {
   "cell_type": "code",
   "execution_count": 3556,
   "id": "4b9bb138",
   "metadata": {
    "ExecuteTime": {
     "end_time": "2021-05-24T20:32:18.255265Z",
     "start_time": "2021-05-24T20:32:18.249272Z"
    }
   },
   "outputs": [],
   "source": [
    "current_data = ml_df_final[ml_df_final.dr.isin(current_drivers)]"
   ]
  },
  {
   "cell_type": "code",
   "execution_count": 3557,
   "id": "7441bf61",
   "metadata": {
    "ExecuteTime": {
     "end_time": "2021-05-24T20:32:20.324900Z",
     "start_time": "2021-05-24T20:32:20.316902Z"
    }
   },
   "outputs": [],
   "source": [
    "current_data[[\"q1\", \"q2\", \"q3\"]] = current_data[[\"q1\", \"q2\", \"q3\"]].fillna(\"3:00.000\")\n",
    "current_data.qual_pos = current_data.qual_pos.fillna(current_data.start_pos)"
   ]
  },
  {
   "cell_type": "code",
   "execution_count": 3558,
   "id": "9f5dc7ca",
   "metadata": {
    "ExecuteTime": {
     "end_time": "2021-05-24T20:32:20.628282Z",
     "start_time": "2021-05-24T20:32:20.620279Z"
    }
   },
   "outputs": [],
   "source": [
    "current_data.dr_prev_pts = current_data.dr_prev_pts.fillna(0)\n",
    "current_data.dr_prev_wins = current_data.dr_prev_wins.fillna(0)\n",
    "\n",
    "current_data.dr_pos_prev = current_data.dr_pos_prev.fillna(current_data.dr_pos_prev.max())\n",
    "\n",
    "current_data.constr_prev_pts = current_data.constr_prev_pts.fillna(0)\n",
    "current_data.constr_prev_wins = current_data.constr_prev_wins.fillna(0)\n",
    "\n",
    "current_data.constr_pos_prev = current_data.constr_pos_prev.fillna(current_data.constr_pos_prev.max())"
   ]
  },
  {
   "cell_type": "code",
   "execution_count": 3559,
   "id": "7ceb0036",
   "metadata": {
    "ExecuteTime": {
     "end_time": "2021-05-24T20:32:22.859507Z",
     "start_time": "2021-05-24T20:32:22.853659Z"
    }
   },
   "outputs": [],
   "source": [
    "current_data.fastest_lap_rank = current_data.fastest_lap_rank.fillna(current_data.fastest_lap_rank.max())"
   ]
  },
  {
   "cell_type": "code",
   "execution_count": 3560,
   "id": "62c438d2",
   "metadata": {
    "ExecuteTime": {
     "end_time": "2021-05-24T20:32:26.304106Z",
     "start_time": "2021-05-24T20:32:26.300094Z"
    }
   },
   "outputs": [],
   "source": [
    "current_data = current_data.drop(columns=[\"race_date\"])"
   ]
  },
  {
   "cell_type": "code",
   "execution_count": 3561,
   "id": "c0822612",
   "metadata": {
    "ExecuteTime": {
     "end_time": "2021-05-24T20:32:32.543442Z",
     "start_time": "2021-05-24T20:32:32.540429Z"
    }
   },
   "outputs": [],
   "source": [
    "def convert_to_seconds(mm_ss_fff):\n",
    "    minute, seconds = mm_ss_fff.split(\":\")\n",
    "    minute_to_seconds = float(minute) * 60 # seconds from minutes\n",
    "    tot_seconds = minute_to_seconds + float(seconds)\n",
    "    return tot_seconds"
   ]
  },
  {
   "cell_type": "code",
   "execution_count": 3562,
   "id": "2e693aac",
   "metadata": {
    "ExecuteTime": {
     "end_time": "2021-05-24T20:32:34.171293Z",
     "start_time": "2021-05-24T20:32:34.157291Z"
    }
   },
   "outputs": [],
   "source": [
    "current_data.q1 = current_data.q1.apply(lambda x: convert_to_seconds(x))\n",
    "current_data.q2 = current_data.q2.apply(lambda x: convert_to_seconds(x))\n",
    "current_data.q3 = current_data.q3.apply(lambda x: convert_to_seconds(x))"
   ]
  },
  {
   "cell_type": "code",
   "execution_count": 3564,
   "id": "2079c354",
   "metadata": {
    "ExecuteTime": {
     "end_time": "2021-05-24T20:35:16.410925Z",
     "start_time": "2021-05-24T20:35:16.386927Z"
    }
   },
   "outputs": [],
   "source": [
    "current_data = pd.concat([current_data, pd.get_dummies(current_data.dr)], axis=1)\n",
    "current_data = pd.concat([current_data, pd.get_dummies(current_data.dr_nat)], axis=1)\n",
    "current_data = pd.concat([current_data, pd.get_dummies(current_data.constr_name)], axis=1)\n",
    "current_data = pd.concat([current_data, pd.get_dummies(current_data.constr_nat)], axis=1)\n",
    "current_data = pd.concat([current_data, pd.get_dummies(current_data.gp_name)], axis=1)"
   ]
  },
  {
   "cell_type": "code",
   "execution_count": 3565,
   "id": "5e4ab828",
   "metadata": {
    "ExecuteTime": {
     "end_time": "2021-05-24T20:35:16.649292Z",
     "start_time": "2021-05-24T20:35:16.643302Z"
    }
   },
   "outputs": [],
   "source": [
    "current_data = current_data.drop(columns=[\"dr\", \"dr_nat\", \"constr_name\", \"constr_nat\", \"gp_name\"])"
   ]
  },
  {
   "cell_type": "code",
   "execution_count": 3566,
   "id": "a214cd3c",
   "metadata": {
    "ExecuteTime": {
     "end_time": "2021-05-24T20:35:17.270332Z",
     "start_time": "2021-05-24T20:35:17.266322Z"
    }
   },
   "outputs": [],
   "source": [
    "y = current_data[[\"end_pos\", \"finished\", \"fastest_lap_rank\"]]"
   ]
  },
  {
   "cell_type": "code",
   "execution_count": 3567,
   "id": "fb64ed03",
   "metadata": {
    "ExecuteTime": {
     "end_time": "2021-05-24T20:35:17.496378Z",
     "start_time": "2021-05-24T20:35:17.491378Z"
    }
   },
   "outputs": [],
   "source": [
    "x = current_data.drop(columns=[\"end_pos\", \"finished\", \"fastest_lap_rank\"])"
   ]
  },
  {
   "cell_type": "code",
   "execution_count": 3568,
   "id": "84c92ab6",
   "metadata": {
    "ExecuteTime": {
     "end_time": "2021-05-24T20:35:28.353579Z",
     "start_time": "2021-05-24T20:35:28.349581Z"
    }
   },
   "outputs": [],
   "source": [
    "y_neural = pd.get_dummies(y.end_pos)"
   ]
  },
  {
   "cell_type": "code",
   "execution_count": 3572,
   "id": "fef700c1",
   "metadata": {
    "ExecuteTime": {
     "end_time": "2021-05-24T20:37:47.839566Z",
     "start_time": "2021-05-24T20:37:47.833576Z"
    }
   },
   "outputs": [],
   "source": [
    "scaler = preprocessing.MinMaxScaler().fit(x.iloc[:, :20])"
   ]
  },
  {
   "cell_type": "code",
   "execution_count": 3575,
   "id": "a733c29e",
   "metadata": {
    "ExecuteTime": {
     "end_time": "2021-05-24T20:38:29.703990Z",
     "start_time": "2021-05-24T20:38:29.690263Z"
    }
   },
   "outputs": [],
   "source": [
    "x.iloc[:, :20] = scaler.transform(x.iloc[:, :20])"
   ]
  },
  {
   "cell_type": "code",
   "execution_count": 3577,
   "id": "cce89146",
   "metadata": {
    "ExecuteTime": {
     "end_time": "2021-05-24T20:38:50.754262Z",
     "start_time": "2021-05-24T20:38:50.751260Z"
    }
   },
   "outputs": [],
   "source": [
    "# from sklearn.linear_model import LogisticRegression\n",
    "# clf = LogisticRegression(solver='liblinear').fit(x.values, y.finished.values.astype(int))\n",
    "# from sklearn.metrics import accuracy_score\n",
    "# accuracy_score(y.finished, clf.predict(x))\n",
    "# y.finished.value_counts(normalize=True)\n",
    "# clf.predict(x)"
   ]
  },
  {
   "cell_type": "code",
   "execution_count": 3585,
   "id": "10d37833",
   "metadata": {
    "ExecuteTime": {
     "end_time": "2021-05-24T20:40:48.523362Z",
     "start_time": "2021-05-24T20:40:48.517362Z"
    }
   },
   "outputs": [],
   "source": [
    "X_train, X_test, y_train, y_test = train_test_split(x.values, y_neural.values, test_size=0.20)"
   ]
  },
  {
   "cell_type": "code",
   "execution_count": 3587,
   "id": "67a2a18a",
   "metadata": {
    "ExecuteTime": {
     "end_time": "2021-05-24T20:42:05.327275Z",
     "start_time": "2021-05-24T20:42:05.325263Z"
    }
   },
   "outputs": [],
   "source": [
    "import tensorflow as tf\n",
    "from tensorflow import keras\n",
    "from tensorflow.keras import layers"
   ]
  },
  {
   "cell_type": "code",
   "execution_count": 3594,
   "id": "566ca4a8",
   "metadata": {
    "ExecuteTime": {
     "end_time": "2021-05-24T20:46:14.231633Z",
     "start_time": "2021-05-24T20:46:14.224645Z"
    }
   },
   "outputs": [],
   "source": [
    "train_dataset = tf.data.Dataset.from_tensor_slices((X_train, y_train))\n",
    "test_dataset = tf.data.Dataset.from_tensor_slices((X_test, y_test))"
   ]
  },
  {
   "cell_type": "code",
   "execution_count": 3595,
   "id": "d8cdd48d",
   "metadata": {
    "ExecuteTime": {
     "end_time": "2021-05-24T20:46:35.771071Z",
     "start_time": "2021-05-24T20:46:35.768071Z"
    }
   },
   "outputs": [],
   "source": [
    "BATCH_SIZE = 64\n",
    "SHUFFLE_BUFFER_SIZE = X_train.shape[0]"
   ]
  },
  {
   "cell_type": "code",
   "execution_count": 3596,
   "id": "e04cc061",
   "metadata": {
    "ExecuteTime": {
     "end_time": "2021-05-24T20:46:45.741258Z",
     "start_time": "2021-05-24T20:46:45.736263Z"
    }
   },
   "outputs": [],
   "source": [
    "train_dataset = train_dataset.shuffle(SHUFFLE_BUFFER_SIZE).batch(BATCH_SIZE)\n",
    "test_dataset = test_dataset.batch(BATCH_SIZE)"
   ]
  },
  {
   "cell_type": "code",
   "execution_count": 3636,
   "id": "783c30d7",
   "metadata": {
    "ExecuteTime": {
     "end_time": "2021-05-24T20:55:13.802572Z",
     "start_time": "2021-05-24T20:55:13.737583Z"
    }
   },
   "outputs": [],
   "source": [
    "model = keras.Sequential()\n",
    "model.add(layers.Dense(50, input_dim = x.shape[1], activation = 'relu')) # Rectified Linear Unit Activation Function\n",
    "model.add(layers.Dropout(0.1))\n",
    "model.add(layers.Dense(50, activation = 'relu'))\n",
    "model.add(layers.Dropout(0.1))\n",
    "model.add(layers.Dense(50, activation = 'relu'))\n",
    "model.add(layers.Dropout(0.1))\n",
    "model.add(layers.Dense(50, activation = 'relu'))\n",
    "model.add(layers.Dense(y_neural.shape[1], activation = 'softmax')) # Softmax for multi-class classification\n",
    "model.compile(loss='categorical_crossentropy', optimizer='adam', metrics=['accuracy'])"
   ]
  },
  {
   "cell_type": "code",
   "execution_count": 3637,
   "id": "ea6a4b57",
   "metadata": {
    "ExecuteTime": {
     "end_time": "2021-05-24T20:56:06.156237Z",
     "start_time": "2021-05-24T20:55:15.850274Z"
    }
   },
   "outputs": [
    {
     "name": "stdout",
     "output_type": "stream",
     "text": [
      "Epoch 1/200\n",
      "31/31 [==============================] - 1s 12ms/step - loss: 3.1596 - accuracy: 0.0765 - val_loss: 3.0533 - val_accuracy: 0.0967\n",
      "Epoch 2/200\n",
      "31/31 [==============================] - 0s 8ms/step - loss: 2.9975 - accuracy: 0.0982 - val_loss: 2.9060 - val_accuracy: 0.1132\n",
      "Epoch 3/200\n",
      "31/31 [==============================] - 0s 7ms/step - loss: 2.8478 - accuracy: 0.1156 - val_loss: 2.8254 - val_accuracy: 0.1440\n",
      "Epoch 4/200\n",
      "31/31 [==============================] - 0s 8ms/step - loss: 2.7767 - accuracy: 0.1286 - val_loss: 2.7873 - val_accuracy: 0.1461\n",
      "Epoch 5/200\n",
      "31/31 [==============================] - 0s 8ms/step - loss: 2.6954 - accuracy: 0.1471 - val_loss: 2.7625 - val_accuracy: 0.1543\n",
      "Epoch 6/200\n",
      "31/31 [==============================] - 0s 7ms/step - loss: 2.6923 - accuracy: 0.1572 - val_loss: 2.7467 - val_accuracy: 0.1481\n",
      "Epoch 7/200\n",
      "31/31 [==============================] - 0s 7ms/step - loss: 2.6888 - accuracy: 0.1548 - val_loss: 2.7317 - val_accuracy: 0.1626\n",
      "Epoch 8/200\n",
      "31/31 [==============================] - 0s 7ms/step - loss: 2.6453 - accuracy: 0.1599 - val_loss: 2.7236 - val_accuracy: 0.1626\n",
      "Epoch 9/200\n",
      "31/31 [==============================] - 0s 8ms/step - loss: 2.5881 - accuracy: 0.1933 - val_loss: 2.7117 - val_accuracy: 0.1626\n",
      "Epoch 10/200\n",
      "31/31 [==============================] - 0s 8ms/step - loss: 2.6164 - accuracy: 0.1805 - val_loss: 2.7170 - val_accuracy: 0.1728\n",
      "Epoch 11/200\n",
      "31/31 [==============================] - 0s 8ms/step - loss: 2.5718 - accuracy: 0.2046 - val_loss: 2.7108 - val_accuracy: 0.1626\n",
      "Epoch 12/200\n",
      "31/31 [==============================] - 0s 7ms/step - loss: 2.5582 - accuracy: 0.1981 - val_loss: 2.7174 - val_accuracy: 0.1605\n",
      "Epoch 13/200\n",
      "31/31 [==============================] - 0s 8ms/step - loss: 2.5210 - accuracy: 0.2039 - val_loss: 2.7003 - val_accuracy: 0.1667\n",
      "Epoch 14/200\n",
      "31/31 [==============================] - 0s 7ms/step - loss: 2.5218 - accuracy: 0.2129 - val_loss: 2.6990 - val_accuracy: 0.1770\n",
      "Epoch 15/200\n",
      "31/31 [==============================] - 0s 8ms/step - loss: 2.5277 - accuracy: 0.2224 - val_loss: 2.7002 - val_accuracy: 0.1914\n",
      "Epoch 16/200\n",
      "31/31 [==============================] - 0s 7ms/step - loss: 2.5040 - accuracy: 0.2139 - val_loss: 2.6923 - val_accuracy: 0.1687\n",
      "Epoch 17/200\n",
      "31/31 [==============================] - 0s 7ms/step - loss: 2.4907 - accuracy: 0.2169 - val_loss: 2.7003 - val_accuracy: 0.1893\n",
      "Epoch 18/200\n",
      "31/31 [==============================] - 0s 8ms/step - loss: 2.4850 - accuracy: 0.2168 - val_loss: 2.7047 - val_accuracy: 0.1872\n",
      "Epoch 19/200\n",
      "31/31 [==============================] - 0s 8ms/step - loss: 2.4834 - accuracy: 0.2280 - val_loss: 2.7114 - val_accuracy: 0.1749\n",
      "Epoch 20/200\n",
      "31/31 [==============================] - 0s 8ms/step - loss: 2.4500 - accuracy: 0.2285 - val_loss: 2.7219 - val_accuracy: 0.1749\n",
      "Epoch 21/200\n",
      "31/31 [==============================] - 0s 8ms/step - loss: 2.4145 - accuracy: 0.2359 - val_loss: 2.7106 - val_accuracy: 0.1667\n",
      "Epoch 22/200\n",
      "31/31 [==============================] - 0s 8ms/step - loss: 2.4011 - accuracy: 0.2392 - val_loss: 2.7282 - val_accuracy: 0.1708\n",
      "Epoch 23/200\n",
      "31/31 [==============================] - 0s 7ms/step - loss: 2.3833 - accuracy: 0.2622 - val_loss: 2.7323 - val_accuracy: 0.1584\n",
      "Epoch 24/200\n",
      "31/31 [==============================] - 0s 7ms/step - loss: 2.3716 - accuracy: 0.2527 - val_loss: 2.7489 - val_accuracy: 0.1770\n",
      "Epoch 25/200\n",
      "31/31 [==============================] - 0s 8ms/step - loss: 2.3687 - accuracy: 0.2421 - val_loss: 2.7430 - val_accuracy: 0.1543\n",
      "Epoch 26/200\n",
      "31/31 [==============================] - 0s 8ms/step - loss: 2.3747 - accuracy: 0.2354 - val_loss: 2.7553 - val_accuracy: 0.1584\n",
      "Epoch 27/200\n",
      "31/31 [==============================] - 0s 8ms/step - loss: 2.3771 - accuracy: 0.2612 - val_loss: 2.7602 - val_accuracy: 0.1543\n",
      "Epoch 28/200\n",
      "31/31 [==============================] - 0s 8ms/step - loss: 2.3274 - accuracy: 0.2564 - val_loss: 2.7637 - val_accuracy: 0.1543\n",
      "Epoch 29/200\n",
      "31/31 [==============================] - 0s 7ms/step - loss: 2.3053 - accuracy: 0.2595 - val_loss: 2.7720 - val_accuracy: 0.1584\n",
      "Epoch 30/200\n",
      "31/31 [==============================] - 0s 7ms/step - loss: 2.3209 - accuracy: 0.2548 - val_loss: 2.7681 - val_accuracy: 0.1543\n",
      "Epoch 31/200\n",
      "31/31 [==============================] - 0s 8ms/step - loss: 2.3083 - accuracy: 0.2649 - val_loss: 2.7939 - val_accuracy: 0.1481\n",
      "Epoch 32/200\n",
      "31/31 [==============================] - 0s 8ms/step - loss: 2.2753 - accuracy: 0.2781 - val_loss: 2.7809 - val_accuracy: 0.1605\n",
      "Epoch 33/200\n",
      "31/31 [==============================] - 0s 7ms/step - loss: 2.2815 - accuracy: 0.2751 - val_loss: 2.7859 - val_accuracy: 0.1481\n",
      "Epoch 34/200\n",
      "31/31 [==============================] - 0s 7ms/step - loss: 2.2567 - accuracy: 0.2732 - val_loss: 2.8041 - val_accuracy: 0.1440\n",
      "Epoch 35/200\n",
      "31/31 [==============================] - 0s 8ms/step - loss: 2.2507 - accuracy: 0.2798 - val_loss: 2.8111 - val_accuracy: 0.1728\n",
      "Epoch 36/200\n",
      "31/31 [==============================] - 0s 7ms/step - loss: 2.2641 - accuracy: 0.2799 - val_loss: 2.8224 - val_accuracy: 0.1461\n",
      "Epoch 37/200\n",
      "31/31 [==============================] - 0s 7ms/step - loss: 2.2722 - accuracy: 0.2791 - val_loss: 2.8266 - val_accuracy: 0.1646\n",
      "Epoch 38/200\n",
      "31/31 [==============================] - 0s 8ms/step - loss: 2.2194 - accuracy: 0.2908 - val_loss: 2.8366 - val_accuracy: 0.1523\n",
      "Epoch 39/200\n",
      "31/31 [==============================] - 0s 8ms/step - loss: 2.2213 - accuracy: 0.2816 - val_loss: 2.8653 - val_accuracy: 0.1481\n",
      "Epoch 40/200\n",
      "31/31 [==============================] - 0s 8ms/step - loss: 2.2663 - accuracy: 0.2645 - val_loss: 2.8766 - val_accuracy: 0.1379\n",
      "Epoch 41/200\n",
      "31/31 [==============================] - 0s 8ms/step - loss: 2.1920 - accuracy: 0.2786 - val_loss: 2.8543 - val_accuracy: 0.1461\n",
      "Epoch 42/200\n",
      "31/31 [==============================] - 0s 8ms/step - loss: 2.2009 - accuracy: 0.3036 - val_loss: 2.8954 - val_accuracy: 0.1358\n",
      "Epoch 43/200\n",
      "31/31 [==============================] - 0s 8ms/step - loss: 2.2376 - accuracy: 0.2756 - val_loss: 2.8987 - val_accuracy: 0.1420\n",
      "Epoch 44/200\n",
      "31/31 [==============================] - 0s 7ms/step - loss: 2.2085 - accuracy: 0.2891 - val_loss: 2.8814 - val_accuracy: 0.1481\n",
      "Epoch 45/200\n",
      "31/31 [==============================] - 0s 7ms/step - loss: 2.1869 - accuracy: 0.2993 - val_loss: 2.8952 - val_accuracy: 0.1420\n",
      "Epoch 46/200\n",
      "31/31 [==============================] - 0s 8ms/step - loss: 2.1535 - accuracy: 0.3060 - val_loss: 2.9206 - val_accuracy: 0.1420\n",
      "Epoch 47/200\n",
      "31/31 [==============================] - 0s 8ms/step - loss: 2.1270 - accuracy: 0.3307 - val_loss: 2.9215 - val_accuracy: 0.1584\n",
      "Epoch 48/200\n",
      "31/31 [==============================] - 0s 8ms/step - loss: 2.2077 - accuracy: 0.2747 - val_loss: 2.9416 - val_accuracy: 0.1358\n",
      "Epoch 49/200\n",
      "31/31 [==============================] - 0s 8ms/step - loss: 2.1736 - accuracy: 0.3089 - val_loss: 2.9519 - val_accuracy: 0.1337\n",
      "Epoch 50/200\n",
      "31/31 [==============================] - 0s 8ms/step - loss: 2.1847 - accuracy: 0.2875 - val_loss: 2.9587 - val_accuracy: 0.1420\n",
      "Epoch 51/200\n",
      "31/31 [==============================] - 0s 8ms/step - loss: 2.1295 - accuracy: 0.3116 - val_loss: 2.9489 - val_accuracy: 0.1543\n",
      "Epoch 52/200\n",
      "31/31 [==============================] - 0s 8ms/step - loss: 2.1332 - accuracy: 0.3200 - val_loss: 2.9507 - val_accuracy: 0.1440\n",
      "Epoch 53/200\n",
      "31/31 [==============================] - 0s 8ms/step - loss: 2.1563 - accuracy: 0.3132 - val_loss: 2.9835 - val_accuracy: 0.1379\n",
      "Epoch 54/200\n",
      "31/31 [==============================] - 0s 7ms/step - loss: 2.0814 - accuracy: 0.3307 - val_loss: 2.9710 - val_accuracy: 0.1337\n",
      "Epoch 55/200\n",
      "31/31 [==============================] - 0s 7ms/step - loss: 2.0916 - accuracy: 0.3242 - val_loss: 3.0033 - val_accuracy: 0.1461\n",
      "Epoch 56/200\n",
      "31/31 [==============================] - 0s 7ms/step - loss: 2.0940 - accuracy: 0.3063 - val_loss: 2.9985 - val_accuracy: 0.1481\n",
      "Epoch 57/200\n",
      "31/31 [==============================] - 0s 8ms/step - loss: 2.1064 - accuracy: 0.3255 - val_loss: 3.0239 - val_accuracy: 0.1481\n",
      "Epoch 58/200\n",
      "31/31 [==============================] - 0s 7ms/step - loss: 2.0673 - accuracy: 0.3256 - val_loss: 3.0041 - val_accuracy: 0.1440\n"
     ]
    },
    {
     "name": "stdout",
     "output_type": "stream",
     "text": [
      "Epoch 59/200\n",
      "31/31 [==============================] - 0s 8ms/step - loss: 2.0971 - accuracy: 0.3215 - val_loss: 3.0326 - val_accuracy: 0.1399\n",
      "Epoch 60/200\n",
      "31/31 [==============================] - 0s 7ms/step - loss: 2.0543 - accuracy: 0.3269 - val_loss: 3.0531 - val_accuracy: 0.1337\n",
      "Epoch 61/200\n",
      "31/31 [==============================] - 0s 7ms/step - loss: 2.0873 - accuracy: 0.3300 - val_loss: 3.0640 - val_accuracy: 0.1337\n",
      "Epoch 62/200\n",
      "31/31 [==============================] - 0s 8ms/step - loss: 2.0406 - accuracy: 0.3346 - val_loss: 3.0332 - val_accuracy: 0.1276\n",
      "Epoch 63/200\n",
      "31/31 [==============================] - 0s 8ms/step - loss: 2.0742 - accuracy: 0.3320 - val_loss: 3.0404 - val_accuracy: 0.1481\n",
      "Epoch 64/200\n",
      "31/31 [==============================] - 0s 7ms/step - loss: 2.0101 - accuracy: 0.3622 - val_loss: 3.0607 - val_accuracy: 0.1440\n",
      "Epoch 65/200\n",
      "31/31 [==============================] - 0s 7ms/step - loss: 2.0395 - accuracy: 0.3432 - val_loss: 3.0874 - val_accuracy: 0.1358\n",
      "Epoch 66/200\n",
      "31/31 [==============================] - 0s 8ms/step - loss: 2.0341 - accuracy: 0.3465 - val_loss: 3.0796 - val_accuracy: 0.1399\n",
      "Epoch 67/200\n",
      "31/31 [==============================] - 0s 7ms/step - loss: 2.0049 - accuracy: 0.3539 - val_loss: 3.1350 - val_accuracy: 0.1317\n",
      "Epoch 68/200\n",
      "31/31 [==============================] - 0s 7ms/step - loss: 2.0134 - accuracy: 0.3341 - val_loss: 3.1250 - val_accuracy: 0.1440\n",
      "Epoch 69/200\n",
      "31/31 [==============================] - 0s 7ms/step - loss: 2.0484 - accuracy: 0.3271 - val_loss: 3.1205 - val_accuracy: 0.1337\n",
      "Epoch 70/200\n",
      "31/31 [==============================] - 0s 8ms/step - loss: 1.9971 - accuracy: 0.3448 - val_loss: 3.1300 - val_accuracy: 0.1276\n",
      "Epoch 71/200\n",
      "31/31 [==============================] - 0s 8ms/step - loss: 1.9874 - accuracy: 0.3537 - val_loss: 3.1718 - val_accuracy: 0.1399\n",
      "Epoch 72/200\n",
      "31/31 [==============================] - 0s 7ms/step - loss: 1.9843 - accuracy: 0.3510 - val_loss: 3.1605 - val_accuracy: 0.1235\n",
      "Epoch 73/200\n",
      "31/31 [==============================] - 0s 8ms/step - loss: 1.9956 - accuracy: 0.3499 - val_loss: 3.1510 - val_accuracy: 0.1193\n",
      "Epoch 74/200\n",
      "31/31 [==============================] - 0s 7ms/step - loss: 1.9666 - accuracy: 0.3571 - val_loss: 3.1497 - val_accuracy: 0.1358\n",
      "Epoch 75/200\n",
      "31/31 [==============================] - 0s 7ms/step - loss: 2.0220 - accuracy: 0.3525 - val_loss: 3.1699 - val_accuracy: 0.1358\n",
      "Epoch 76/200\n",
      "31/31 [==============================] - 0s 8ms/step - loss: 1.9764 - accuracy: 0.3504 - val_loss: 3.1680 - val_accuracy: 0.1399\n",
      "Epoch 77/200\n",
      "31/31 [==============================] - 0s 8ms/step - loss: 1.9633 - accuracy: 0.3701 - val_loss: 3.1894 - val_accuracy: 0.1420\n",
      "Epoch 78/200\n",
      "31/31 [==============================] - 0s 8ms/step - loss: 1.9769 - accuracy: 0.3477 - val_loss: 3.1800 - val_accuracy: 0.1358\n",
      "Epoch 79/200\n",
      "31/31 [==============================] - 0s 8ms/step - loss: 1.9409 - accuracy: 0.3613 - val_loss: 3.2227 - val_accuracy: 0.1379\n",
      "Epoch 80/200\n",
      "31/31 [==============================] - 0s 8ms/step - loss: 1.9647 - accuracy: 0.3651 - val_loss: 3.2122 - val_accuracy: 0.1379\n",
      "Epoch 81/200\n",
      "31/31 [==============================] - 0s 7ms/step - loss: 1.9872 - accuracy: 0.3517 - val_loss: 3.2183 - val_accuracy: 0.1379\n",
      "Epoch 82/200\n",
      "31/31 [==============================] - 0s 7ms/step - loss: 1.9658 - accuracy: 0.3723 - val_loss: 3.1946 - val_accuracy: 0.1358\n",
      "Epoch 83/200\n",
      "31/31 [==============================] - 0s 8ms/step - loss: 1.9134 - accuracy: 0.3726 - val_loss: 3.2172 - val_accuracy: 0.1296\n",
      "Epoch 84/200\n",
      "31/31 [==============================] - 0s 8ms/step - loss: 1.8998 - accuracy: 0.3631 - val_loss: 3.2163 - val_accuracy: 0.1337\n",
      "Epoch 85/200\n",
      "31/31 [==============================] - 0s 7ms/step - loss: 1.9146 - accuracy: 0.3288 - val_loss: 3.2416 - val_accuracy: 0.1276\n",
      "Epoch 86/200\n",
      "31/31 [==============================] - 0s 8ms/step - loss: 1.8934 - accuracy: 0.3613 - val_loss: 3.2864 - val_accuracy: 0.1337\n",
      "Epoch 87/200\n",
      "31/31 [==============================] - 0s 7ms/step - loss: 1.9165 - accuracy: 0.3793 - val_loss: 3.2404 - val_accuracy: 0.1399\n",
      "Epoch 88/200\n",
      "31/31 [==============================] - 0s 8ms/step - loss: 1.9511 - accuracy: 0.3558 - val_loss: 3.2922 - val_accuracy: 0.1420\n",
      "Epoch 89/200\n",
      "31/31 [==============================] - 0s 8ms/step - loss: 1.8703 - accuracy: 0.3778 - val_loss: 3.2958 - val_accuracy: 0.1296\n",
      "Epoch 90/200\n",
      "31/31 [==============================] - 0s 8ms/step - loss: 1.9206 - accuracy: 0.3574 - val_loss: 3.2955 - val_accuracy: 0.1317\n",
      "Epoch 91/200\n",
      "31/31 [==============================] - 0s 9ms/step - loss: 1.8875 - accuracy: 0.3823 - val_loss: 3.3131 - val_accuracy: 0.1317\n",
      "Epoch 92/200\n",
      "31/31 [==============================] - 0s 9ms/step - loss: 1.8674 - accuracy: 0.3867 - val_loss: 3.2986 - val_accuracy: 0.1255\n",
      "Epoch 93/200\n",
      "31/31 [==============================] - 0s 8ms/step - loss: 1.8474 - accuracy: 0.3903 - val_loss: 3.3014 - val_accuracy: 0.1317\n",
      "Epoch 94/200\n",
      "31/31 [==============================] - 0s 8ms/step - loss: 1.8566 - accuracy: 0.3948 - val_loss: 3.3291 - val_accuracy: 0.1276\n",
      "Epoch 95/200\n",
      "31/31 [==============================] - 0s 8ms/step - loss: 1.8704 - accuracy: 0.3893 - val_loss: 3.3733 - val_accuracy: 0.1296\n",
      "Epoch 96/200\n",
      "31/31 [==============================] - 0s 8ms/step - loss: 1.8297 - accuracy: 0.3713 - val_loss: 3.3625 - val_accuracy: 0.1296\n",
      "Epoch 97/200\n",
      "31/31 [==============================] - 0s 9ms/step - loss: 1.8724 - accuracy: 0.3870 - val_loss: 3.3618 - val_accuracy: 0.1317\n",
      "Epoch 98/200\n",
      "31/31 [==============================] - 0s 10ms/step - loss: 1.8822 - accuracy: 0.3794 - val_loss: 3.3431 - val_accuracy: 0.1358\n",
      "Epoch 99/200\n",
      "31/31 [==============================] - 0s 9ms/step - loss: 1.8519 - accuracy: 0.4030 - val_loss: 3.3727 - val_accuracy: 0.1523\n",
      "Epoch 100/200\n",
      "31/31 [==============================] - 0s 9ms/step - loss: 1.8483 - accuracy: 0.4037 - val_loss: 3.3411 - val_accuracy: 0.1399\n",
      "Epoch 101/200\n",
      "31/31 [==============================] - 0s 9ms/step - loss: 1.8578 - accuracy: 0.4014 - val_loss: 3.3552 - val_accuracy: 0.1214\n",
      "Epoch 102/200\n",
      "31/31 [==============================] - 0s 8ms/step - loss: 1.8640 - accuracy: 0.3679 - val_loss: 3.3820 - val_accuracy: 0.1358\n",
      "Epoch 103/200\n",
      "31/31 [==============================] - 0s 8ms/step - loss: 1.8277 - accuracy: 0.4024 - val_loss: 3.3663 - val_accuracy: 0.1337\n",
      "Epoch 104/200\n",
      "31/31 [==============================] - 0s 9ms/step - loss: 1.8529 - accuracy: 0.3972 - val_loss: 3.4020 - val_accuracy: 0.1358\n",
      "Epoch 105/200\n",
      "31/31 [==============================] - 0s 8ms/step - loss: 1.8640 - accuracy: 0.4060 - val_loss: 3.4199 - val_accuracy: 0.1420\n",
      "Epoch 106/200\n",
      "31/31 [==============================] - 0s 9ms/step - loss: 1.8182 - accuracy: 0.3867 - val_loss: 3.4017 - val_accuracy: 0.1296\n",
      "Epoch 107/200\n",
      "31/31 [==============================] - 0s 8ms/step - loss: 1.8701 - accuracy: 0.3827 - val_loss: 3.4076 - val_accuracy: 0.1399\n",
      "Epoch 108/200\n",
      "31/31 [==============================] - 0s 8ms/step - loss: 1.8450 - accuracy: 0.3869 - val_loss: 3.4629 - val_accuracy: 0.1296\n",
      "Epoch 109/200\n",
      "31/31 [==============================] - 0s 9ms/step - loss: 1.7651 - accuracy: 0.4214 - val_loss: 3.4998 - val_accuracy: 0.1358\n",
      "Epoch 110/200\n",
      "31/31 [==============================] - 0s 8ms/step - loss: 1.7767 - accuracy: 0.4050 - val_loss: 3.4307 - val_accuracy: 0.1440\n",
      "Epoch 111/200\n",
      "31/31 [==============================] - 0s 8ms/step - loss: 1.7793 - accuracy: 0.4246 - val_loss: 3.4546 - val_accuracy: 0.1337\n",
      "Epoch 112/200\n",
      "31/31 [==============================] - 0s 8ms/step - loss: 1.8315 - accuracy: 0.3879 - val_loss: 3.4415 - val_accuracy: 0.1296\n",
      "Epoch 113/200\n",
      "31/31 [==============================] - 0s 9ms/step - loss: 1.7615 - accuracy: 0.4150 - val_loss: 3.4989 - val_accuracy: 0.1337\n",
      "Epoch 114/200\n",
      "31/31 [==============================] - 0s 9ms/step - loss: 1.8245 - accuracy: 0.3974 - val_loss: 3.5213 - val_accuracy: 0.1317\n",
      "Epoch 115/200\n",
      "31/31 [==============================] - 0s 9ms/step - loss: 1.7443 - accuracy: 0.4177 - val_loss: 3.4809 - val_accuracy: 0.1337\n",
      "Epoch 116/200\n"
     ]
    },
    {
     "name": "stdout",
     "output_type": "stream",
     "text": [
      "31/31 [==============================] - 0s 7ms/step - loss: 1.7853 - accuracy: 0.4085 - val_loss: 3.5279 - val_accuracy: 0.1255\n",
      "Epoch 117/200\n",
      "31/31 [==============================] - 0s 7ms/step - loss: 1.8012 - accuracy: 0.3938 - val_loss: 3.5276 - val_accuracy: 0.1420\n",
      "Epoch 118/200\n",
      "31/31 [==============================] - 0s 8ms/step - loss: 1.8001 - accuracy: 0.4142 - val_loss: 3.4957 - val_accuracy: 0.1358\n",
      "Epoch 119/200\n",
      "31/31 [==============================] - 0s 9ms/step - loss: 1.6855 - accuracy: 0.4294 - val_loss: 3.5366 - val_accuracy: 0.1481\n",
      "Epoch 120/200\n",
      "31/31 [==============================] - 0s 8ms/step - loss: 1.7840 - accuracy: 0.4067 - val_loss: 3.5420 - val_accuracy: 0.1276\n",
      "Epoch 121/200\n",
      "31/31 [==============================] - 0s 7ms/step - loss: 1.7491 - accuracy: 0.4089 - val_loss: 3.5664 - val_accuracy: 0.1399\n",
      "Epoch 122/200\n",
      "31/31 [==============================] - 0s 7ms/step - loss: 1.7338 - accuracy: 0.4133 - val_loss: 3.5396 - val_accuracy: 0.1379\n",
      "Epoch 123/200\n",
      "31/31 [==============================] - 0s 8ms/step - loss: 1.7889 - accuracy: 0.4193 - val_loss: 3.5390 - val_accuracy: 0.1420\n",
      "Epoch 124/200\n",
      "31/31 [==============================] - 0s 8ms/step - loss: 1.7536 - accuracy: 0.4176 - val_loss: 3.5813 - val_accuracy: 0.1440\n",
      "Epoch 125/200\n",
      "31/31 [==============================] - 0s 8ms/step - loss: 1.7299 - accuracy: 0.4201 - val_loss: 3.5647 - val_accuracy: 0.1420\n",
      "Epoch 126/200\n",
      "31/31 [==============================] - 0s 8ms/step - loss: 1.7906 - accuracy: 0.4212 - val_loss: 3.5865 - val_accuracy: 0.1440\n",
      "Epoch 127/200\n",
      "31/31 [==============================] - 0s 8ms/step - loss: 1.7149 - accuracy: 0.4129 - val_loss: 3.5875 - val_accuracy: 0.1358\n",
      "Epoch 128/200\n",
      "31/31 [==============================] - 0s 8ms/step - loss: 1.7241 - accuracy: 0.4392 - val_loss: 3.6069 - val_accuracy: 0.1276\n",
      "Epoch 129/200\n",
      "31/31 [==============================] - 0s 7ms/step - loss: 1.7150 - accuracy: 0.4045 - val_loss: 3.5682 - val_accuracy: 0.1296\n",
      "Epoch 130/200\n",
      "31/31 [==============================] - 0s 7ms/step - loss: 1.7508 - accuracy: 0.4203 - val_loss: 3.6600 - val_accuracy: 0.1379\n",
      "Epoch 131/200\n",
      "31/31 [==============================] - 0s 7ms/step - loss: 1.7628 - accuracy: 0.4262 - val_loss: 3.5741 - val_accuracy: 0.1481\n",
      "Epoch 132/200\n",
      "31/31 [==============================] - 0s 7ms/step - loss: 1.6802 - accuracy: 0.4390 - val_loss: 3.6328 - val_accuracy: 0.1420\n",
      "Epoch 133/200\n",
      "31/31 [==============================] - 0s 8ms/step - loss: 1.7056 - accuracy: 0.4422 - val_loss: 3.6783 - val_accuracy: 0.1379\n",
      "Epoch 134/200\n",
      "31/31 [==============================] - 0s 8ms/step - loss: 1.7350 - accuracy: 0.4396 - val_loss: 3.6334 - val_accuracy: 0.1317\n",
      "Epoch 135/200\n",
      "31/31 [==============================] - 0s 8ms/step - loss: 1.6848 - accuracy: 0.4360 - val_loss: 3.6891 - val_accuracy: 0.1461\n",
      "Epoch 136/200\n",
      "31/31 [==============================] - 0s 7ms/step - loss: 1.6992 - accuracy: 0.4396 - val_loss: 3.6175 - val_accuracy: 0.1358\n",
      "Epoch 137/200\n",
      "31/31 [==============================] - 0s 8ms/step - loss: 1.6936 - accuracy: 0.4282 - val_loss: 3.6721 - val_accuracy: 0.1317\n",
      "Epoch 138/200\n",
      "31/31 [==============================] - 0s 8ms/step - loss: 1.6867 - accuracy: 0.4496 - val_loss: 3.6475 - val_accuracy: 0.1317\n",
      "Epoch 139/200\n",
      "31/31 [==============================] - 0s 8ms/step - loss: 1.6907 - accuracy: 0.4354 - val_loss: 3.6805 - val_accuracy: 0.1461\n",
      "Epoch 140/200\n",
      "31/31 [==============================] - 0s 8ms/step - loss: 1.6973 - accuracy: 0.4380 - val_loss: 3.6780 - val_accuracy: 0.1461\n",
      "Epoch 141/200\n",
      "31/31 [==============================] - 0s 8ms/step - loss: 1.7485 - accuracy: 0.4121 - val_loss: 3.7077 - val_accuracy: 0.1358\n",
      "Epoch 142/200\n",
      "31/31 [==============================] - 0s 8ms/step - loss: 1.6503 - accuracy: 0.4443 - val_loss: 3.7273 - val_accuracy: 0.1296\n",
      "Epoch 143/200\n",
      "31/31 [==============================] - 0s 9ms/step - loss: 1.6175 - accuracy: 0.4838 - val_loss: 3.7554 - val_accuracy: 0.1358\n",
      "Epoch 144/200\n",
      "31/31 [==============================] - 0s 8ms/step - loss: 1.6871 - accuracy: 0.4296 - val_loss: 3.7345 - val_accuracy: 0.1296\n",
      "Epoch 145/200\n",
      "31/31 [==============================] - 0s 8ms/step - loss: 1.7219 - accuracy: 0.4409 - val_loss: 3.7331 - val_accuracy: 0.1523\n",
      "Epoch 146/200\n",
      "31/31 [==============================] - 0s 7ms/step - loss: 1.6542 - accuracy: 0.4526 - val_loss: 3.7169 - val_accuracy: 0.1214\n",
      "Epoch 147/200\n",
      "31/31 [==============================] - 0s 7ms/step - loss: 1.6440 - accuracy: 0.4444 - val_loss: 3.7535 - val_accuracy: 0.1337\n",
      "Epoch 148/200\n",
      "31/31 [==============================] - 0s 7ms/step - loss: 1.6096 - accuracy: 0.4619 - val_loss: 3.7495 - val_accuracy: 0.1379\n",
      "Epoch 149/200\n",
      "31/31 [==============================] - 0s 7ms/step - loss: 1.6761 - accuracy: 0.4468 - val_loss: 3.7837 - val_accuracy: 0.1358\n",
      "Epoch 150/200\n",
      "31/31 [==============================] - 0s 7ms/step - loss: 1.6242 - accuracy: 0.4663 - val_loss: 3.7559 - val_accuracy: 0.1399\n",
      "Epoch 151/200\n",
      "31/31 [==============================] - 0s 7ms/step - loss: 1.6157 - accuracy: 0.4638 - val_loss: 3.7301 - val_accuracy: 0.1337\n",
      "Epoch 152/200\n",
      "31/31 [==============================] - 0s 7ms/step - loss: 1.6323 - accuracy: 0.4424 - val_loss: 3.7879 - val_accuracy: 0.1379\n",
      "Epoch 153/200\n",
      "31/31 [==============================] - 0s 8ms/step - loss: 1.6317 - accuracy: 0.4578 - val_loss: 3.8026 - val_accuracy: 0.1481\n",
      "Epoch 154/200\n",
      "31/31 [==============================] - 0s 8ms/step - loss: 1.6352 - accuracy: 0.4411 - val_loss: 3.7961 - val_accuracy: 0.1379\n",
      "Epoch 155/200\n",
      "31/31 [==============================] - 0s 8ms/step - loss: 1.5976 - accuracy: 0.4474 - val_loss: 3.8065 - val_accuracy: 0.1502\n",
      "Epoch 156/200\n",
      "31/31 [==============================] - 0s 8ms/step - loss: 1.6386 - accuracy: 0.4379 - val_loss: 3.8334 - val_accuracy: 0.1399\n",
      "Epoch 157/200\n",
      "31/31 [==============================] - 0s 8ms/step - loss: 1.6843 - accuracy: 0.4424 - val_loss: 3.8040 - val_accuracy: 0.1358\n",
      "Epoch 158/200\n",
      "31/31 [==============================] - 0s 7ms/step - loss: 1.6317 - accuracy: 0.4658 - val_loss: 3.7830 - val_accuracy: 0.1358\n",
      "Epoch 159/200\n",
      "31/31 [==============================] - 0s 8ms/step - loss: 1.6094 - accuracy: 0.4708 - val_loss: 3.8297 - val_accuracy: 0.1420\n",
      "Epoch 160/200\n",
      "31/31 [==============================] - 0s 8ms/step - loss: 1.6236 - accuracy: 0.4597 - val_loss: 3.8090 - val_accuracy: 0.1276\n",
      "Epoch 161/200\n",
      "31/31 [==============================] - 0s 9ms/step - loss: 1.6563 - accuracy: 0.4406 - val_loss: 3.8694 - val_accuracy: 0.1296\n",
      "Epoch 162/200\n",
      "31/31 [==============================] - 0s 8ms/step - loss: 1.6038 - accuracy: 0.4582 - val_loss: 3.8519 - val_accuracy: 0.1193\n",
      "Epoch 163/200\n",
      "31/31 [==============================] - 0s 8ms/step - loss: 1.6076 - accuracy: 0.4582 - val_loss: 3.8169 - val_accuracy: 0.1255\n",
      "Epoch 164/200\n",
      "31/31 [==============================] - 0s 8ms/step - loss: 1.6373 - accuracy: 0.4487 - val_loss: 3.8708 - val_accuracy: 0.1276\n",
      "Epoch 165/200\n",
      "31/31 [==============================] - 0s 8ms/step - loss: 1.6081 - accuracy: 0.4667 - val_loss: 3.8840 - val_accuracy: 0.1276\n",
      "Epoch 166/200\n",
      "31/31 [==============================] - 0s 8ms/step - loss: 1.5848 - accuracy: 0.4644 - val_loss: 3.9215 - val_accuracy: 0.1337\n",
      "Epoch 167/200\n",
      "31/31 [==============================] - 0s 8ms/step - loss: 1.5832 - accuracy: 0.4567 - val_loss: 3.9350 - val_accuracy: 0.1296\n",
      "Epoch 168/200\n",
      "31/31 [==============================] - 0s 9ms/step - loss: 1.5497 - accuracy: 0.4766 - val_loss: 3.9058 - val_accuracy: 0.1296\n",
      "Epoch 169/200\n",
      "31/31 [==============================] - 0s 8ms/step - loss: 1.5933 - accuracy: 0.4665 - val_loss: 3.9007 - val_accuracy: 0.1358\n",
      "Epoch 170/200\n",
      "31/31 [==============================] - 0s 8ms/step - loss: 1.6372 - accuracy: 0.4666 - val_loss: 3.8328 - val_accuracy: 0.1420\n",
      "Epoch 171/200\n",
      "31/31 [==============================] - 0s 8ms/step - loss: 1.6370 - accuracy: 0.4379 - val_loss: 3.9259 - val_accuracy: 0.1317\n",
      "Epoch 172/200\n",
      "31/31 [==============================] - 0s 8ms/step - loss: 1.6162 - accuracy: 0.4572 - val_loss: 3.9081 - val_accuracy: 0.1420\n",
      "Epoch 173/200\n"
     ]
    },
    {
     "name": "stdout",
     "output_type": "stream",
     "text": [
      "31/31 [==============================] - 0s 7ms/step - loss: 1.5933 - accuracy: 0.4796 - val_loss: 3.8891 - val_accuracy: 0.1379\n",
      "Epoch 174/200\n",
      "31/31 [==============================] - 0s 8ms/step - loss: 1.5359 - accuracy: 0.4929 - val_loss: 3.9578 - val_accuracy: 0.1255\n",
      "Epoch 175/200\n",
      "31/31 [==============================] - 0s 7ms/step - loss: 1.5612 - accuracy: 0.4929 - val_loss: 3.9731 - val_accuracy: 0.1296\n",
      "Epoch 176/200\n",
      "31/31 [==============================] - 0s 8ms/step - loss: 1.5826 - accuracy: 0.4689 - val_loss: 3.9906 - val_accuracy: 0.1358\n",
      "Epoch 177/200\n",
      "31/31 [==============================] - 0s 8ms/step - loss: 1.5717 - accuracy: 0.4799 - val_loss: 3.9800 - val_accuracy: 0.1255\n",
      "Epoch 178/200\n",
      "31/31 [==============================] - 0s 7ms/step - loss: 1.5933 - accuracy: 0.4700 - val_loss: 3.9474 - val_accuracy: 0.1255\n",
      "Epoch 179/200\n",
      "31/31 [==============================] - 0s 7ms/step - loss: 1.5642 - accuracy: 0.4491 - val_loss: 4.0106 - val_accuracy: 0.1296\n",
      "Epoch 180/200\n",
      "31/31 [==============================] - 0s 7ms/step - loss: 1.5678 - accuracy: 0.4676 - val_loss: 3.9324 - val_accuracy: 0.1337\n",
      "Epoch 181/200\n",
      "31/31 [==============================] - 0s 8ms/step - loss: 1.5563 - accuracy: 0.4874 - val_loss: 4.0073 - val_accuracy: 0.1358\n",
      "Epoch 182/200\n",
      "31/31 [==============================] - 0s 9ms/step - loss: 1.5595 - accuracy: 0.4782 - val_loss: 3.9699 - val_accuracy: 0.1317\n",
      "Epoch 183/200\n",
      "31/31 [==============================] - 0s 7ms/step - loss: 1.5730 - accuracy: 0.4956 - val_loss: 3.9686 - val_accuracy: 0.1399\n",
      "Epoch 184/200\n",
      "31/31 [==============================] - 0s 8ms/step - loss: 1.5784 - accuracy: 0.4562 - val_loss: 3.9971 - val_accuracy: 0.1358\n",
      "Epoch 185/200\n",
      "31/31 [==============================] - 0s 8ms/step - loss: 1.5388 - accuracy: 0.4916 - val_loss: 4.0429 - val_accuracy: 0.1337\n",
      "Epoch 186/200\n",
      "31/31 [==============================] - 0s 8ms/step - loss: 1.5289 - accuracy: 0.4724 - val_loss: 4.0366 - val_accuracy: 0.1379\n",
      "Epoch 187/200\n",
      "31/31 [==============================] - 0s 8ms/step - loss: 1.5691 - accuracy: 0.4769 - val_loss: 4.0371 - val_accuracy: 0.1337\n",
      "Epoch 188/200\n",
      "31/31 [==============================] - 0s 7ms/step - loss: 1.5045 - accuracy: 0.4963 - val_loss: 4.0573 - val_accuracy: 0.1317\n",
      "Epoch 189/200\n",
      "31/31 [==============================] - 0s 8ms/step - loss: 1.5323 - accuracy: 0.4987 - val_loss: 4.0264 - val_accuracy: 0.1358\n",
      "Epoch 190/200\n",
      "31/31 [==============================] - 0s 8ms/step - loss: 1.5305 - accuracy: 0.4985 - val_loss: 4.0049 - val_accuracy: 0.1296\n",
      "Epoch 191/200\n",
      "31/31 [==============================] - 0s 8ms/step - loss: 1.5372 - accuracy: 0.4872 - val_loss: 3.9761 - val_accuracy: 0.1276\n",
      "Epoch 192/200\n",
      "31/31 [==============================] - 0s 8ms/step - loss: 1.5660 - accuracy: 0.4767 - val_loss: 4.0012 - val_accuracy: 0.1296\n",
      "Epoch 193/200\n",
      "31/31 [==============================] - 0s 8ms/step - loss: 1.5045 - accuracy: 0.4828 - val_loss: 4.0578 - val_accuracy: 0.1481\n",
      "Epoch 194/200\n",
      "31/31 [==============================] - 0s 7ms/step - loss: 1.5296 - accuracy: 0.4779 - val_loss: 4.0811 - val_accuracy: 0.1255\n",
      "Epoch 195/200\n",
      "31/31 [==============================] - 0s 7ms/step - loss: 1.5453 - accuracy: 0.4939 - val_loss: 4.0873 - val_accuracy: 0.1358\n",
      "Epoch 196/200\n",
      "31/31 [==============================] - 0s 7ms/step - loss: 1.5581 - accuracy: 0.4807 - val_loss: 4.0411 - val_accuracy: 0.1214\n",
      "Epoch 197/200\n",
      "31/31 [==============================] - 0s 8ms/step - loss: 1.5311 - accuracy: 0.4902 - val_loss: 4.0608 - val_accuracy: 0.1317\n",
      "Epoch 198/200\n",
      "31/31 [==============================] - 0s 8ms/step - loss: 1.4933 - accuracy: 0.4928 - val_loss: 4.0399 - val_accuracy: 0.1214\n",
      "Epoch 199/200\n",
      "31/31 [==============================] - 0s 8ms/step - loss: 1.5248 - accuracy: 0.5044 - val_loss: 4.1253 - val_accuracy: 0.1276\n",
      "Epoch 200/200\n",
      "31/31 [==============================] - 0s 8ms/step - loss: 1.4856 - accuracy: 0.5112 - val_loss: 4.0813 - val_accuracy: 0.1276\n"
     ]
    }
   ],
   "source": [
    "EPOCHS=200\n",
    "history = model.fit(train_dataset, epochs=EPOCHS, validation_data=test_dataset)"
   ]
  },
  {
   "cell_type": "code",
   "execution_count": 3640,
   "id": "9e32bbd1",
   "metadata": {
    "ExecuteTime": {
     "end_time": "2021-05-24T21:22:41.350261Z",
     "start_time": "2021-05-24T21:22:41.347260Z"
    }
   },
   "outputs": [],
   "source": [
    "import matplotlib.pyplot as plt"
   ]
  },
  {
   "cell_type": "code",
   "execution_count": 3641,
   "id": "ce3ffa37",
   "metadata": {
    "ExecuteTime": {
     "end_time": "2021-05-24T21:22:41.746261Z",
     "start_time": "2021-05-24T21:22:41.606260Z"
    }
   },
   "outputs": [
    {
     "data": {
      "text/plain": [
       "[<matplotlib.lines.Line2D at 0x1cae9111ca0>]"
      ]
     },
     "execution_count": 3641,
     "metadata": {},
     "output_type": "execute_result"
    },
    {
     "data": {
      "image/png": "[encoded data removed]",
      "text/plain": [
       "<Figure size 432x288 with 1 Axes>"
      ]
     },
     "metadata": {
      "needs_background": "light"
     },
     "output_type": "display_data"
    }
   ],
   "source": [
    "plt.plot(np.linspace(1, EPOCHS, EPOCHS), history.history['loss'])\n",
    "plt.plot(np.linspace(1, EPOCHS, EPOCHS), history.history['val_loss'])"
   ]
  },
  {
   "cell_type": "code",
   "execution_count": 3642,
   "id": "ac8b3fa0",
   "metadata": {
    "ExecuteTime": {
     "end_time": "2021-05-24T21:22:43.699360Z",
     "start_time": "2021-05-24T21:22:43.558348Z"
    }
   },
   "outputs": [
    {
     "data": {
      "text/plain": [
       "[<matplotlib.lines.Line2D at 0x1cae9170cd0>]"
      ]
     },
     "execution_count": 3642,
     "metadata": {},
     "output_type": "execute_result"
    },
    {
     "data": {
      "image/png": "[encoded data removed]",
      "text/plain": [
       "<Figure size 432x288 with 1 Axes>"
      ]
     },
     "metadata": {
      "needs_background": "light"
     },
     "output_type": "display_data"
    }
   ],
   "source": [
    "plt.plot(np.linspace(1, EPOCHS, EPOCHS), history.history['accuracy'])\n",
    "plt.plot(np.linspace(1, EPOCHS, EPOCHS), history.history['val_accuracy'])"
   ]
  },
  {
   "cell_type": "code",
   "execution_count": 3610,
   "id": "c96bb061",
   "metadata": {
    "ExecuteTime": {
     "end_time": "2021-05-24T20:49:58.579737Z",
     "start_time": "2021-05-24T20:49:58.574372Z"
    }
   },
   "outputs": [
    {
     "data": {
      "text/plain": [
       "dict_keys(['loss', 'accuracy', 'val_loss', 'val_accuracy'])"
      ]
     },
     "execution_count": 3610,
     "metadata": {},
     "output_type": "execute_result"
    }
   ],
   "source": [
    "history.history.keys()"
   ]
  },
  {
   "cell_type": "markdown",
   "id": "6c0ed362",
   "metadata": {},
   "source": [
    "# OTHER ------------------------------\n",
    "## Terminara en Puntos"
   ]
  },
  {
   "cell_type": "code",
   "execution_count": 2310,
   "id": "6e26470e",
   "metadata": {
    "ExecuteTime": {
     "end_time": "2021-05-23T21:18:03.040508Z",
     "start_time": "2021-05-23T21:18:03.036508Z"
    }
   },
   "outputs": [],
   "source": [
    "# safe_copy[(safe_copy.raceId > 1050) & (safe_copy.driverId == 1)]\n",
    "\n",
    "# testing = ml_df[(ml_df.raceId > 1050) & (ml_df.driverId == 1)]\n",
    "# testing\n",
    "\n",
    "# testing = ml_df[(ml_df.raceId > 1050) & (ml_df.driverId == 822)]\n",
    "# testing\n",
    "\n",
    "# new_data = get_rolling_statistics(testing, \"compl_laps\")\n",
    "\n",
    "# ml_df.compl_laps.iloc[testing.index] = new_data.compl_laps\n",
    "\n",
    "# get_shifted_statistics(testing, \"constr_pos\")\n",
    "\n",
    "# get_shifted_statistics(testing, \"dr_pos\")\n",
    "\n",
    "# num_rows = len(testing)\n",
    "# to_insert = np.insert(testing.dr_pos.values, 0, 0)\n",
    "# to_insert\n",
    "\n",
    "# to_insert[:num_rows]\n",
    "\n",
    "# testing.constr_pos.expanding().sum().values[:num_rows-1]\n",
    "\n",
    "# # season completed laps - function of raceid and driverid\n",
    "# stats = testing.compl_laps.expanding().sum().values[:num_rows-1]\n",
    "\n",
    "# import numpy as np\n",
    "\n",
    "# stats = np.insert(stats, 0, 0)\n",
    "\n",
    "# orig_index = testing.index\n",
    "\n",
    "# ml_df.iloc[orig_index]\n",
    "\n",
    "# testing.compl_laps = stats"
   ]
  },
  {
   "cell_type": "code",
   "execution_count": 595,
   "id": "bd4e94c2",
   "metadata": {
    "ExecuteTime": {
     "end_time": "2021-05-21T23:36:27.271790Z",
     "start_time": "2021-05-21T23:36:27.245754Z"
    }
   },
   "outputs": [],
   "source": [
    "in_points = results.merge(races, on=\"raceId\")"
   ]
  },
  {
   "cell_type": "code",
   "execution_count": 245,
   "id": "ae1c06c1",
   "metadata": {
    "ExecuteTime": {
     "end_time": "2021-05-21T21:52:25.248561Z",
     "start_time": "2021-05-21T21:52:25.246562Z"
    }
   },
   "outputs": [],
   "source": [
    "current_drivers_ids = [1, 830, 822, 844, 815, 817, 832, 846, 839, 842, 840, 8, 20, 847, 841, 849, 4, 854, 853, 852]"
   ]
  },
  {
   "cell_type": "code",
   "execution_count": null,
   "id": "bf386904",
   "metadata": {},
   "outputs": [],
   "source": [
    "def terminara_en_puntos(driver_id, circuit_id):\n",
    "    driver_circuit = in_points[(in_points.driverId == driver_id) & (in_points.circuitId == circuit_id)][[\"year\", \"grid\", \"circuitId\", \"position\"]]"
   ]
  },
  {
   "cell_type": "code",
   "execution_count": 293,
   "id": "de4099aa",
   "metadata": {
    "ExecuteTime": {
     "end_time": "2021-05-21T22:05:57.256361Z",
     "start_time": "2021-05-21T22:05:57.250364Z"
    }
   },
   "outputs": [],
   "source": [
    "hamilton_monaco = in_points[(in_points.driverId == 8) & (in_points.circuitId == 6)][[\"year\", \"grid\", \"circuitId\", \"position\"]]"
   ]
  },
  {
   "cell_type": "code",
   "execution_count": 294,
   "id": "84a06c20",
   "metadata": {
    "ExecuteTime": {
     "end_time": "2021-05-21T22:05:57.476618Z",
     "start_time": "2021-05-21T22:05:57.473618Z"
    }
   },
   "outputs": [],
   "source": [
    "hamilton_monaco = hamilton_monaco.replace(\"\\\\N\", \"20\")"
   ]
  },
  {
   "cell_type": "code",
   "execution_count": 295,
   "id": "6dca0d9f",
   "metadata": {
    "ExecuteTime": {
     "end_time": "2021-05-21T22:05:57.802890Z",
     "start_time": "2021-05-21T22:05:57.799890Z"
    }
   },
   "outputs": [],
   "source": [
    "hamilton_monaco.position = hamilton_monaco.position.astype(int)"
   ]
  },
  {
   "cell_type": "code",
   "execution_count": 296,
   "id": "f6df76f5",
   "metadata": {
    "ExecuteTime": {
     "end_time": "2021-05-21T22:05:58.038290Z",
     "start_time": "2021-05-21T22:05:58.033288Z"
    }
   },
   "outputs": [],
   "source": [
    "hamilton_monaco = hamilton_monaco.sort_values(\"year\")"
   ]
  },
  {
   "cell_type": "code",
   "execution_count": 297,
   "id": "46d03346",
   "metadata": {
    "ExecuteTime": {
     "end_time": "2021-05-21T22:05:58.212997Z",
     "start_time": "2021-05-21T22:05:58.203997Z"
    }
   },
   "outputs": [
    {
     "data": {
      "text/html": [
       "<div>\n",
       "<style scoped>\n",
       "    .dataframe tbody tr th:only-of-type {\n",
       "        vertical-align: middle;\n",
       "    }\n",
       "\n",
       "    .dataframe tbody tr th {\n",
       "        vertical-align: top;\n",
       "    }\n",
       "\n",
       "    .dataframe thead th {\n",
       "        text-align: right;\n",
       "    }\n",
       "</style>\n",
       "<table border=\"1\" class=\"dataframe\">\n",
       "  <thead>\n",
       "    <tr style=\"text-align: right;\">\n",
       "      <th></th>\n",
       "      <th>year</th>\n",
       "      <th>grid</th>\n",
       "      <th>circuitId</th>\n",
       "      <th>position</th>\n",
       "    </tr>\n",
       "  </thead>\n",
       "  <tbody>\n",
       "    <tr>\n",
       "      <th>2697</th>\n",
       "      <td>2001</td>\n",
       "      <td>15</td>\n",
       "      <td>6</td>\n",
       "      <td>10</td>\n",
       "    </tr>\n",
       "    <tr>\n",
       "      <th>2344</th>\n",
       "      <td>2002</td>\n",
       "      <td>6</td>\n",
       "      <td>6</td>\n",
       "      <td>20</td>\n",
       "    </tr>\n",
       "    <tr>\n",
       "      <th>1995</th>\n",
       "      <td>2003</td>\n",
       "      <td>2</td>\n",
       "      <td>6</td>\n",
       "      <td>2</td>\n",
       "    </tr>\n",
       "    <tr>\n",
       "      <th>1626</th>\n",
       "      <td>2004</td>\n",
       "      <td>5</td>\n",
       "      <td>6</td>\n",
       "      <td>20</td>\n",
       "    </tr>\n",
       "    <tr>\n",
       "      <th>1236</th>\n",
       "      <td>2005</td>\n",
       "      <td>1</td>\n",
       "      <td>6</td>\n",
       "      <td>1</td>\n",
       "    </tr>\n",
       "    <tr>\n",
       "      <th>893</th>\n",
       "      <td>2006</td>\n",
       "      <td>3</td>\n",
       "      <td>6</td>\n",
       "      <td>20</td>\n",
       "    </tr>\n",
       "    <tr>\n",
       "      <th>463</th>\n",
       "      <td>2007</td>\n",
       "      <td>16</td>\n",
       "      <td>6</td>\n",
       "      <td>8</td>\n",
       "    </tr>\n",
       "    <tr>\n",
       "      <th>116</th>\n",
       "      <td>2008</td>\n",
       "      <td>2</td>\n",
       "      <td>6</td>\n",
       "      <td>9</td>\n",
       "    </tr>\n",
       "    <tr>\n",
       "      <th>7655</th>\n",
       "      <td>2009</td>\n",
       "      <td>2</td>\n",
       "      <td>6</td>\n",
       "      <td>3</td>\n",
       "    </tr>\n",
       "    <tr>\n",
       "      <th>21363</th>\n",
       "      <td>2012</td>\n",
       "      <td>8</td>\n",
       "      <td>6</td>\n",
       "      <td>9</td>\n",
       "    </tr>\n",
       "    <tr>\n",
       "      <th>21834</th>\n",
       "      <td>2013</td>\n",
       "      <td>5</td>\n",
       "      <td>6</td>\n",
       "      <td>10</td>\n",
       "    </tr>\n",
       "    <tr>\n",
       "      <th>22254</th>\n",
       "      <td>2014</td>\n",
       "      <td>6</td>\n",
       "      <td>6</td>\n",
       "      <td>12</td>\n",
       "    </tr>\n",
       "    <tr>\n",
       "      <th>22643</th>\n",
       "      <td>2015</td>\n",
       "      <td>6</td>\n",
       "      <td>6</td>\n",
       "      <td>6</td>\n",
       "    </tr>\n",
       "    <tr>\n",
       "      <th>23048</th>\n",
       "      <td>2016</td>\n",
       "      <td>11</td>\n",
       "      <td>6</td>\n",
       "      <td>20</td>\n",
       "    </tr>\n",
       "    <tr>\n",
       "      <th>23481</th>\n",
       "      <td>2017</td>\n",
       "      <td>1</td>\n",
       "      <td>6</td>\n",
       "      <td>2</td>\n",
       "    </tr>\n",
       "    <tr>\n",
       "      <th>23883</th>\n",
       "      <td>2018</td>\n",
       "      <td>4</td>\n",
       "      <td>6</td>\n",
       "      <td>4</td>\n",
       "    </tr>\n",
       "    <tr>\n",
       "      <th>24316</th>\n",
       "      <td>2019</td>\n",
       "      <td>14</td>\n",
       "      <td>6</td>\n",
       "      <td>17</td>\n",
       "    </tr>\n",
       "  </tbody>\n",
       "</table>\n",
       "</div>"
      ],
      "text/plain": [
       "       year  grid  circuitId  position\n",
       "2697   2001    15          6        10\n",
       "2344   2002     6          6        20\n",
       "1995   2003     2          6         2\n",
       "1626   2004     5          6        20\n",
       "1236   2005     1          6         1\n",
       "893    2006     3          6        20\n",
       "463    2007    16          6         8\n",
       "116    2008     2          6         9\n",
       "7655   2009     2          6         3\n",
       "21363  2012     8          6         9\n",
       "21834  2013     5          6        10\n",
       "22254  2014     6          6        12\n",
       "22643  2015     6          6         6\n",
       "23048  2016    11          6        20\n",
       "23481  2017     1          6         2\n",
       "23883  2018     4          6         4\n",
       "24316  2019    14          6        17"
      ]
     },
     "execution_count": 297,
     "metadata": {},
     "output_type": "execute_result"
    }
   ],
   "source": [
    "hamilton_monaco"
   ]
  },
  {
   "cell_type": "code",
   "execution_count": 298,
   "id": "e3be2afa",
   "metadata": {
    "ExecuteTime": {
     "end_time": "2021-05-21T22:05:58.766618Z",
     "start_time": "2021-05-21T22:05:58.762628Z"
    }
   },
   "outputs": [],
   "source": [
    "hamilton_monaco[\"top_10\"] = hamilton_monaco.position.apply(lambda x: 1 if x <= 10 else 0)"
   ]
  },
  {
   "cell_type": "code",
   "execution_count": 299,
   "id": "76a83441",
   "metadata": {
    "ExecuteTime": {
     "end_time": "2021-05-21T22:05:59.372431Z",
     "start_time": "2021-05-21T22:05:59.225419Z"
    }
   },
   "outputs": [
    {
     "data": {
      "text/plain": [
       "<AxesSubplot:xlabel='year'>"
      ]
     },
     "execution_count": 299,
     "metadata": {},
     "output_type": "execute_result"
    },
    {
     "data": {
      "image/png": "[encoded data removed]",
      "text/plain": [
       "<Figure size 432x288 with 1 Axes>"
      ]
     },
     "metadata": {
      "needs_background": "light"
     },
     "output_type": "display_data"
    }
   ],
   "source": [
    "hamilton_monaco.plot(\"year\", \"top_10\")"
   ]
  },
  {
   "cell_type": "code",
   "execution_count": 306,
   "id": "2938d702",
   "metadata": {
    "ExecuteTime": {
     "end_time": "2021-05-21T22:07:13.507212Z",
     "start_time": "2021-05-21T22:07:13.504212Z"
    }
   },
   "outputs": [],
   "source": [
    "clf = LogisticRegression(C=1)"
   ]
  },
  {
   "cell_type": "code",
   "execution_count": 307,
   "id": "f1584e3b",
   "metadata": {
    "ExecuteTime": {
     "end_time": "2021-05-21T22:07:13.876364Z",
     "start_time": "2021-05-21T22:07:13.865375Z"
    }
   },
   "outputs": [
    {
     "data": {
      "text/plain": [
       "LogisticRegression(C=1)"
      ]
     },
     "execution_count": 307,
     "metadata": {},
     "output_type": "execute_result"
    }
   ],
   "source": [
    "clf.fit(hamilton_monaco[[\"year\", \"grid\"]], hamilton_monaco.top_10.values.ravel())"
   ]
  },
  {
   "cell_type": "code",
   "execution_count": 310,
   "id": "d53c3ae6",
   "metadata": {
    "ExecuteTime": {
     "end_time": "2021-05-21T22:07:40.238602Z",
     "start_time": "2021-05-21T22:07:40.088545Z"
    }
   },
   "outputs": [
    {
     "data": {
      "text/plain": [
       "[<matplotlib.lines.Line2D at 0x1c55bfd3cd0>,\n",
       " <matplotlib.lines.Line2D at 0x1c55bfd3d00>]"
      ]
     },
     "execution_count": 310,
     "metadata": {},
     "output_type": "execute_result"
    },
    {
     "data": {
      "image/png": "[encoded data removed]",
      "text/plain": [
       "<Figure size 1008x576 with 1 Axes>"
      ]
     },
     "metadata": {
      "needs_background": "light"
     },
     "output_type": "display_data"
    }
   ],
   "source": [
    "plt.figure(figsize=(14,8))\n",
    "plt.plot(hamilton_monaco.year, hamilton_monaco.top_10)\n",
    "plt.plot(hamilton_monaco.year, clf.predict(hamilton_monaco[[\"year\", \"grid\"]]))\n",
    "plt.plot(hamilton_monaco.year, clf.predict_proba(hamilton_monaco[[\"year\", \"grid\"]]))"
   ]
  },
  {
   "cell_type": "markdown",
   "id": "fd6871fd",
   "metadata": {},
   "source": [
    "## Numero de Pilotos Clasificados\n",
    "\n",
    "TODO: Add weather data"
   ]
  },
  {
   "cell_type": "code",
   "execution_count": 138,
   "id": "00e16a9b",
   "metadata": {
    "ExecuteTime": {
     "end_time": "2021-05-21T19:53:49.636051Z",
     "start_time": "2021-05-21T19:53:49.607038Z"
    }
   },
   "outputs": [],
   "source": [
    "finished = results.merge(races, on=\"raceId\")"
   ]
  },
  {
   "cell_type": "code",
   "execution_count": 141,
   "id": "f5f8ca4d",
   "metadata": {
    "ExecuteTime": {
     "end_time": "2021-05-21T19:54:13.021728Z",
     "start_time": "2021-05-21T19:54:13.006729Z"
    }
   },
   "outputs": [],
   "source": [
    "finished = finished[[\"raceId\", \"year\", \"circuitId\", \"name\", \"finished\"]]"
   ]
  },
  {
   "cell_type": "markdown",
   "id": "34987e2f",
   "metadata": {},
   "source": [
    "### Next Grand Prix"
   ]
  },
  {
   "cell_type": "code",
   "execution_count": 252,
   "id": "61180223",
   "metadata": {
    "ExecuteTime": {
     "end_time": "2021-05-21T21:57:02.851876Z",
     "start_time": "2021-05-21T21:57:02.849887Z"
    }
   },
   "outputs": [],
   "source": [
    "GRAND_PRIX_NAME = \"Monaco Grand Prix\" # \"Spanish Grand Prix\""
   ]
  },
  {
   "cell_type": "code",
   "execution_count": 255,
   "id": "db4a2a43",
   "metadata": {
    "ExecuteTime": {
     "end_time": "2021-05-21T21:57:11.496130Z",
     "start_time": "2021-05-21T21:57:11.489117Z"
    }
   },
   "outputs": [],
   "source": [
    "monaco = finished[finished.name == GRAND_PRIX_NAME].drop(columns=[\"name\", \"circuitId\", \"raceId\"])"
   ]
  },
  {
   "cell_type": "code",
   "execution_count": 256,
   "id": "208326cc",
   "metadata": {
    "ExecuteTime": {
     "end_time": "2021-05-21T21:57:11.738281Z",
     "start_time": "2021-05-21T21:57:11.730292Z"
    }
   },
   "outputs": [
    {
     "data": {
      "text/html": [
       "<div>\n",
       "<style scoped>\n",
       "    .dataframe tbody tr th:only-of-type {\n",
       "        vertical-align: middle;\n",
       "    }\n",
       "\n",
       "    .dataframe tbody tr th {\n",
       "        vertical-align: top;\n",
       "    }\n",
       "\n",
       "    .dataframe thead th {\n",
       "        text-align: right;\n",
       "    }\n",
       "</style>\n",
       "<table border=\"1\" class=\"dataframe\">\n",
       "  <thead>\n",
       "    <tr style=\"text-align: right;\">\n",
       "      <th></th>\n",
       "      <th>year</th>\n",
       "      <th>circuitId</th>\n",
       "      <th>finished</th>\n",
       "    </tr>\n",
       "  </thead>\n",
       "  <tbody>\n",
       "    <tr>\n",
       "      <th>108</th>\n",
       "      <td>2008</td>\n",
       "      <td>6</td>\n",
       "      <td>True</td>\n",
       "    </tr>\n",
       "    <tr>\n",
       "      <th>109</th>\n",
       "      <td>2008</td>\n",
       "      <td>6</td>\n",
       "      <td>True</td>\n",
       "    </tr>\n",
       "    <tr>\n",
       "      <th>110</th>\n",
       "      <td>2008</td>\n",
       "      <td>6</td>\n",
       "      <td>True</td>\n",
       "    </tr>\n",
       "    <tr>\n",
       "      <th>111</th>\n",
       "      <td>2008</td>\n",
       "      <td>6</td>\n",
       "      <td>True</td>\n",
       "    </tr>\n",
       "    <tr>\n",
       "      <th>112</th>\n",
       "      <td>2008</td>\n",
       "      <td>6</td>\n",
       "      <td>True</td>\n",
       "    </tr>\n",
       "  </tbody>\n",
       "</table>\n",
       "</div>"
      ],
      "text/plain": [
       "     year  circuitId  finished\n",
       "108  2008          6      True\n",
       "109  2008          6      True\n",
       "110  2008          6      True\n",
       "111  2008          6      True\n",
       "112  2008          6      True"
      ]
     },
     "execution_count": 256,
     "metadata": {},
     "output_type": "execute_result"
    }
   ],
   "source": [
    "monaco.head()"
   ]
  },
  {
   "cell_type": "code",
   "execution_count": 226,
   "id": "a52b2fc2",
   "metadata": {
    "ExecuteTime": {
     "end_time": "2021-05-21T20:40:26.230298Z",
     "start_time": "2021-05-21T20:40:26.225298Z"
    }
   },
   "outputs": [],
   "source": [
    "monaco = monaco.groupby(\"year\").sum()"
   ]
  },
  {
   "cell_type": "code",
   "execution_count": 227,
   "id": "383da8cf",
   "metadata": {
    "ExecuteTime": {
     "end_time": "2021-05-21T20:40:26.559001Z",
     "start_time": "2021-05-21T20:40:26.554003Z"
    }
   },
   "outputs": [],
   "source": [
    "monaco = monaco.reset_index()"
   ]
  },
  {
   "cell_type": "code",
   "execution_count": 228,
   "id": "468d8434",
   "metadata": {
    "ExecuteTime": {
     "end_time": "2021-05-21T20:40:26.853708Z",
     "start_time": "2021-05-21T20:40:26.848720Z"
    }
   },
   "outputs": [],
   "source": [
    "monaco[\"over\"] = monaco.finished.apply(lambda x: 1 if x > 16.5 else 0)"
   ]
  },
  {
   "cell_type": "code",
   "execution_count": 229,
   "id": "12d9f789",
   "metadata": {
    "ExecuteTime": {
     "end_time": "2021-05-21T20:40:27.349875Z",
     "start_time": "2021-05-21T20:40:27.192886Z"
    }
   },
   "outputs": [
    {
     "data": {
      "text/plain": [
       "<AxesSubplot:xlabel='year'>"
      ]
     },
     "execution_count": 229,
     "metadata": {},
     "output_type": "execute_result"
    },
    {
     "data": {
      "image/png": "[encoded data removed]",
      "text/plain": [
       "<Figure size 432x288 with 1 Axes>"
      ]
     },
     "metadata": {
      "needs_background": "light"
     },
     "output_type": "display_data"
    }
   ],
   "source": [
    "monaco.plot(\"year\", \"finished\")"
   ]
  },
  {
   "cell_type": "code",
   "execution_count": 230,
   "id": "18dabcfb",
   "metadata": {
    "ExecuteTime": {
     "end_time": "2021-05-21T20:40:27.883852Z",
     "start_time": "2021-05-21T20:40:27.880852Z"
    }
   },
   "outputs": [],
   "source": [
    "from sklearn.linear_model import LogisticRegression"
   ]
  },
  {
   "cell_type": "code",
   "execution_count": 236,
   "id": "9f409e7e",
   "metadata": {
    "ExecuteTime": {
     "end_time": "2021-05-21T20:40:48.995586Z",
     "start_time": "2021-05-21T20:40:48.992756Z"
    }
   },
   "outputs": [],
   "source": [
    "clf = LogisticRegression(C=5000)"
   ]
  },
  {
   "cell_type": "code",
   "execution_count": 237,
   "id": "2c360f6f",
   "metadata": {
    "ExecuteTime": {
     "end_time": "2021-05-21T20:40:49.230720Z",
     "start_time": "2021-05-21T20:40:49.220731Z"
    }
   },
   "outputs": [
    {
     "data": {
      "text/plain": [
       "LogisticRegression(C=5000)"
      ]
     },
     "execution_count": 237,
     "metadata": {},
     "output_type": "execute_result"
    }
   ],
   "source": [
    "clf.fit(monaco.year.values.reshape(-1, 1), monaco.over.values.ravel())"
   ]
  },
  {
   "cell_type": "code",
   "execution_count": 238,
   "id": "d09447e7",
   "metadata": {
    "ExecuteTime": {
     "end_time": "2021-05-21T20:40:49.944517Z",
     "start_time": "2021-05-21T20:40:49.801504Z"
    }
   },
   "outputs": [
    {
     "data": {
      "text/plain": [
       "[<matplotlib.lines.Line2D at 0x1c55b4a3370>,\n",
       " <matplotlib.lines.Line2D at 0x1c55b4a33a0>]"
      ]
     },
     "execution_count": 238,
     "metadata": {},
     "output_type": "execute_result"
    },
    {
     "data": {
      "image/png": "[encoded data removed]",
      "text/plain": [
       "<Figure size 1008x576 with 1 Axes>"
      ]
     },
     "metadata": {
      "needs_background": "light"
     },
     "output_type": "display_data"
    }
   ],
   "source": [
    "plt.figure(figsize=(14,8))\n",
    "plt.plot(monaco.year, monaco.over)\n",
    "plt.plot(monaco.year, clf.predict_proba(monaco[[\"year\"]]))"
   ]
  },
  {
   "cell_type": "code",
   "execution_count": null,
   "id": "7891e57a",
   "metadata": {},
   "outputs": [],
   "source": []
  }
 ],
 "metadata": {
  "kernelspec": {
   "display_name": "Python 3",
   "language": "python",
   "name": "python3"
  },
  "language_info": {
   "codemirror_mode": {
    "name": "ipython",
    "version": 3
   },
   "file_extension": ".py",
   "mimetype": "text/x-python",
   "name": "python",
   "nbconvert_exporter": "python",
   "pygments_lexer": "ipython3",
   "version": "3.8.8"
  }
 },
 "nbformat": 4,
 "nbformat_minor": 5
}
